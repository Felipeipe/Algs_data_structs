{
  "cells": [
    {
      "cell_type": "markdown",
      "metadata": {
        "id": "v5Mdk3Z7uxJU"
      },
      "source": [
        "# CC3001 Otoño 2024 Tarea 3  Felipe González Poblete\n",
        "\n",
        "# Calculadora\n",
        "\n",
        "### Profesores\n",
        "Sección 1 Patricio Poblete, Nelson Baloian\n",
        "\n",
        "Atención: la forma de entrega tiene requisitos levemente distintos esta vez\n",
        "\n",
        "\n"
      ]
    },
    {
      "cell_type": "markdown",
      "metadata": {
        "id": "cOin18Qr5Y2U"
      },
      "source": [
        "# Enunciado\n",
        "\n",
        "Esta tarea consiste en desarrollar una calculadora de expresiones matemáticas al estilo Matlab o Maple, pero con capacidad de procesar un conjunto de comandos bien restringido. Algunos ejemplos de los comandos que acepta y de lo que debe imprimir en la salida van a continuación:\n",
        "\n",
        "|Entrada (lo que el usuario escribe)   | Salida(lo que imprime el programa)  |\n",
        "|---|---|\n",
        "|n=5   | n=5 |\n",
        "|   | 5 |\n",
        "|hanoi=2^n-1    |hanoi = 2^n-1  |\n",
        "|    |31   |\n",
        "|var_1 = 23 - 13 + hanoi * 2    |var_1 = 23 - 13 + hanoi * 2   |\n",
        "|    | 82   |\n",
        "|h2 = hanoi /2   |h2 = hanoi /2 |\n",
        "|   | 15   |\n",
        "|var_2 = (2+n)*2   |var_2 = (2+n)*2    |\n",
        "|   | 14   |\n",
        "|var_3 = ((1+n)/2 +3)^2   |var_3 = ((1+n)/2 +3)^2   |\n",
        "|   | 36   |\n",
        "|n   |n   |\n",
        "|  | 5   |\n",
        "\n",
        "A continuación definimos más en detalle lo que se debe implementar:\n",
        "\n",
        "\n",
        "\n",
        "1.   Cada comando es de la forma \"variable=expresión\". El efecto es que primero se debe imprimir el comando y luego se debe calcular la expresión de la derecha, guardar el resultado en la variable de la izquierda e imprimir el resultado en la salida. Si se omite desde el \"=\" hacia adelante (como en el último ejemplo), solo se imprime el valor de la variable. Las variables comienzan con letra y continúan con letras, dígitos y el signo \"_\".\n",
        "2.   Los operadores permitidos son \"+\",\"-\",\"*\", \"/\", \"^\".\n",
        "3.   Solo se trabaja con números enteros y todas las operaciones dan resultado entero (incluyendo la división, que trunca).\n",
        "4.   Se puede usar paréntesis, y si no los hay, la expresión se evalúa estrictamente de izquierda a derecha. Eso explica el resultado que se obtiene para \"var_1\", no hay prioridad de operadores. Pueden venir paréntesis anidados (ver ejemplos)\n",
        "\n",
        "  **Nota**: Se puede optar por el 70% de la nota si se implementa todo lo solicitado salvo el manejo de paréntesis. En este caso, las expresiones se evaluarán estrictamente de izquierda a derecha sin considerar la prioridad de operadores, y no se permitirá el uso de paréntesis en las expresiones.\n",
        "\n",
        "5.   Si se utiliza una variable que aún no ha sido definida, se debe dar un error\n",
        "\n",
        "      ERROR: variable indefinida \"...\"\n",
        "\n",
        "6.   Si la sintaxis no es correcta, se debe imprimir en la salida un mensaje de la forma\n",
        "\n",
        "      ERROR: al procesar \"...\"\n",
        "\n",
        "      donde el string que se imprime es la parte de la entrada desde el punto del error hacia adelante.\n",
        "\n",
        "\n",
        "Antes de empezar a escribir código, usted debe dibujar un diagrama de estados que describa la estructura de la entrada. Si le resulta más conveniente, pueden ser varios diagramas (por ejemplo, uno que describa la estructura de una variable, otro la de un número, otra la de un comando). Luego, a partir de ahí escriba el código que implementa esos diagramas. **Importante:** Su código debe ir procesando de un caracter a la vez, para este procesamiento no se puede utilizar funciones de Python que operen sobre strings de largo mayor que uno. Se recomienda tener una función que reciba un comando en un string y lo procese, y otra que reciba una lista de comandos y vaya invocando a la función antes mencionada para procesarlos.\n",
        "\n",
        "Para almacenar los nombres y valores de las variables, está permitido el uso de un diccionario de Python.\n",
        "\n",
        "En su entrega debe describir brevemente el problema, luego describir la estrategia de solución haciendo referencia a su(s) diagrama(s) de estados, y a continuación el código ejecutable respectivo, agregando todas las explicaciones necesarias para que se entienda.\n",
        "\n"
      ]
    },
    {
      "cell_type": "code",
      "execution_count": 33,
      "metadata": {
        "id": "_ErWcgGJfhQZ"
      },
      "outputs": [],
      "source": [
        "def lectura_variable(operacion, dicc_var):\n",
        "    \"\"\"Recibe un string de la forma '{variable}={expresion}'\n",
        "    y entrega una tupla, conteniendo el nombre de la variable\n",
        "    y el índice donde se encuentra el signo '='\n",
        "    \"\"\"\n",
        "    k = 0\n",
        "    var = ''\n",
        "    simbolos_prohibidos = ' +-*/^'\n",
        "    estado = 'leer_variable'\n",
        "    \n",
        "    while k < len(operacion) and len(operacion) != 0:\n",
        "        if estado == 'leer_variable':\n",
        "            if (operacion[k] == '=' and k != 0):\n",
        "                estado = 'fin'\n",
        "                return var,k\n",
        "            elif not operacion [k] in simbolos_prohibidos:\n",
        "                var += operacion[k]\n",
        "            elif var in dicc_var:\n",
        "                return var, -1\n",
        "            k += 1\n",
        "    estado = 'ERROR: lectura variable'\n",
        "    print(f'ERROR: al procesar {operacion}')\n",
        "    return var, k\n",
        "    \n",
        "def evaluar(base,numero, operador):\n",
        "    \"\"\" operadores permitidos: ' +-*/^'\n",
        "    Recibe un entero y un entero base y aplica la operación\n",
        "    base ~= numero, donde ~ es cualquiera de los operadores permitidos\n",
        "    \"\"\"    \n",
        "    if operador == '+' or operador == '' or operador == ' ':\n",
        "        return base + numero\n",
        "    elif operador == '-':\n",
        "        return base - numero\n",
        "    elif operador == '*':\n",
        "        return base * numero\n",
        "    elif operador == '/':\n",
        "        return base // numero\n",
        "    elif operador == '^':\n",
        "        return base ** numero\n",
        "    else:\n",
        "        pass\n",
        "    \n",
        "\n",
        "def lectura_expresion(operacion: str, dicc_var, k2: int):\n",
        "    \"\"\"\n",
        "    Recibe un string de la forma '{variable}={expresion}' y comienza a leer desde la \n",
        "    (k+1)-ésima posición.\n",
        "    devuelve un número.\n",
        "    \"\"\"\n",
        "    separadores = ' +-*/^'\n",
        "    k = k2 + 1\n",
        "    variable = ''\n",
        "    operador = ''\n",
        "    valor = 0\n",
        "    estado = 'lectura_comando'\n",
        "    \n",
        "    while k < (len(operacion)) and len(operacion) != 0:\n",
        "        if estado == 'lectura_comando':\n",
        "            \n",
        "            variable = ''\n",
        "            \n",
        "            if k2 == -1:\n",
        "                estado = 'imprimir_variable'\n",
        "                print(estado)\n",
        "            \n",
        "            elif operacion[k].isalpha():\n",
        "                estado = 'lectura_variable'\n",
        "                print(estado)\n",
        "                \n",
        "            elif operacion[k].isdecimal():\n",
        "                estado = 'lectura_numero'\n",
        "                print(estado)\n",
        "                \n",
        "            elif operacion[k] in separadores:\n",
        "                operador = operacion[k]\n",
        "                \n",
        "                print(estado)\n",
        "                \n",
        "            else:\n",
        "                estado = 'ERROR: al procesar'\n",
        "                print(estado)\n",
        "        elif estado == 'lectura_variable':\n",
        "            \n",
        "            if not operacion[k] in separadores:\n",
        "                variable += operacion[k]\n",
        "                \n",
        "                \n",
        "            elif not variable in dicc_var:\n",
        "                estado = 'ERROR: variable indefinida'\n",
        "                print(estado)\n",
        "                \n",
        "            else:\n",
        "                valor = evaluar(valor,dicc_var[variable],operador)\n",
        "                \n",
        "                estado = 'lectura_comando'\n",
        "                print(estado)\n",
        "        \n",
        "        elif estado == 'lectura_numero':\n",
        "            if operacion[k].isalpha():\n",
        "                estado = 'ERROR: al procesar'\n",
        "                print(estado)\n",
        "                \n",
        "            elif not operacion[k] in separadores:\n",
        "                variable += operacion[k]\n",
        "                print(estado)\n",
        "            else:\n",
        "                valor = evaluar(valor,int(variable),operador)\n",
        "                print(f'{valor}')\n",
        "                estado = 'lectura_comando'\n",
        "                print(estado)\n",
        "                \n",
        "        elif estado == 'ERROR: variable indefinida':\n",
        "            print(f'ERROR: variable indefinida {variable}')\n",
        "            print(estado)\n",
        "            return valor\n",
        "        \n",
        "        elif estado == 'ERROR: al procesar':\n",
        "            print(f'ERROR: al procesar {operacion}')\n",
        "            print(estado)\n",
        "            return valor\n",
        "        \n",
        "        elif estado == 'imprimir_variable':\n",
        "            print(f'{operacion} \\n{dicc_var[operacion]}')\n",
        "            estado = 'procesar_comando'\n",
        "            print(estado)\n",
        "        \n",
        "        else:\n",
        "            estado = 'ERROR: al procesar'    \n",
        "        k += 1\n",
        "    return valor   \n",
        "\n",
        "\n",
        "\n",
        "# Esta función recibe un comando en string y el diccionario de variables. Con él,\n",
        "# procesa el comando, imprime el resultado de la expresion\n",
        "# y posiblemente modifica el diccionario. La función retorna el diccionario\n",
        "def procesar_comando(comando, dicc_var):\n",
        "    # procesa el comando e imprime el resultado\n",
        "    var, k = lectura_variable(comando, dicc_var)\n",
        "    value = lectura_expresion(comando,dicc_var, k)\n",
        "    print(value)\n",
        "    dicc_var[var] = value \n",
        "    return dicc_var\n",
        "\n",
        "\n",
        "def calculadora(lista_comandos):\n",
        "    # Este diccionario almacena las variables que se vayan definiendo en la calculadora\n",
        "    # Este diccionario se inicializa cuando se usa la calculadora\n",
        "    vars = {}\n",
        "\n",
        "  # Se procesan todos los comandos de la lista (lista de string)\n",
        "    for comando in lista_comandos:\n",
        "        print(comando)\n",
        "        vars = procesar_comando(comando, vars)"
      ]
    },
    {
      "cell_type": "markdown",
      "metadata": {
        "id": "bJRKyHEBtUN5"
      },
      "source": [
        "## Ejemplo 1"
      ]
    },
    {
      "cell_type": "code",
      "execution_count": 34,
      "metadata": {
        "id": "0w4sivX3tWiH"
      },
      "outputs": [
        {
          "name": "stdout",
          "output_type": "stream",
          "text": [
            "n=5\n",
            "lectura_numero\n",
            "0\n",
            "hanoi=2^n-1\n",
            "lectura_numero\n"
          ]
        },
        {
          "ename": "ValueError",
          "evalue": "invalid literal for int() with base 10: ''",
          "output_type": "error",
          "traceback": [
            "\u001b[1;31m---------------------------------------------------------------------------\u001b[0m",
            "\u001b[1;31mValueError\u001b[0m                                Traceback (most recent call last)",
            "Cell \u001b[1;32mIn[34], line 5\u001b[0m\n\u001b[0;32m      2\u001b[0m lista \u001b[38;5;241m=\u001b[39m [\u001b[38;5;124m\"\u001b[39m\u001b[38;5;124mn=5\u001b[39m\u001b[38;5;124m\"\u001b[39m,\u001b[38;5;124m\"\u001b[39m\u001b[38;5;124mhanoi=2^n-1\u001b[39m\u001b[38;5;124m\"\u001b[39m,\u001b[38;5;124m\"\u001b[39m\u001b[38;5;124mvar_1 = 23 - 13 + hanoi * 2\u001b[39m\u001b[38;5;124m\"\u001b[39m,\u001b[38;5;124m\"\u001b[39m\u001b[38;5;124mh2 = hanoi /2\u001b[39m\u001b[38;5;124m\"\u001b[39m,\u001b[38;5;124m\"\u001b[39m\u001b[38;5;124m\"\u001b[39m,\u001b[38;5;124m\"\u001b[39m\u001b[38;5;124mn\u001b[39m\u001b[38;5;124m\"\u001b[39m]\n\u001b[0;32m      3\u001b[0m \u001b[38;5;66;03m# lista = ['n=5']\u001b[39;00m\n\u001b[1;32m----> 5\u001b[0m \u001b[43mcalculadora\u001b[49m\u001b[43m(\u001b[49m\u001b[43mlista\u001b[49m\u001b[43m)\u001b[49m\n",
            "Cell \u001b[1;32mIn[33], line 153\u001b[0m, in \u001b[0;36mcalculadora\u001b[1;34m(lista_comandos)\u001b[0m\n\u001b[0;32m    151\u001b[0m \u001b[38;5;28;01mfor\u001b[39;00m comando \u001b[38;5;129;01min\u001b[39;00m lista_comandos:\n\u001b[0;32m    152\u001b[0m     \u001b[38;5;28mprint\u001b[39m(comando)\n\u001b[1;32m--> 153\u001b[0m     \u001b[38;5;28mvars\u001b[39m \u001b[38;5;241m=\u001b[39m \u001b[43mprocesar_comando\u001b[49m\u001b[43m(\u001b[49m\u001b[43mcomando\u001b[49m\u001b[43m,\u001b[49m\u001b[43m \u001b[49m\u001b[38;5;28;43mvars\u001b[39;49m\u001b[43m)\u001b[49m\n",
            "Cell \u001b[1;32mIn[33], line 139\u001b[0m, in \u001b[0;36mprocesar_comando\u001b[1;34m(comando, dicc_var)\u001b[0m\n\u001b[0;32m    136\u001b[0m \u001b[38;5;28;01mdef\u001b[39;00m \u001b[38;5;21mprocesar_comando\u001b[39m(comando, dicc_var):\n\u001b[0;32m    137\u001b[0m     \u001b[38;5;66;03m# procesa el comando e imprime el resultado\u001b[39;00m\n\u001b[0;32m    138\u001b[0m     var, k \u001b[38;5;241m=\u001b[39m lectura_variable(comando, dicc_var)\n\u001b[1;32m--> 139\u001b[0m     value \u001b[38;5;241m=\u001b[39m \u001b[43mlectura_expresion\u001b[49m\u001b[43m(\u001b[49m\u001b[43mcomando\u001b[49m\u001b[43m,\u001b[49m\u001b[43mdicc_var\u001b[49m\u001b[43m,\u001b[49m\u001b[43m \u001b[49m\u001b[43mk\u001b[49m\u001b[43m)\u001b[49m\n\u001b[0;32m    140\u001b[0m     \u001b[38;5;28mprint\u001b[39m(value)\n\u001b[0;32m    141\u001b[0m     dicc_var[var] \u001b[38;5;241m=\u001b[39m value \n",
            "Cell \u001b[1;32mIn[33], line 106\u001b[0m, in \u001b[0;36mlectura_expresion\u001b[1;34m(operacion, dicc_var, k2)\u001b[0m\n\u001b[0;32m    104\u001b[0m     \u001b[38;5;28mprint\u001b[39m(estado)\n\u001b[0;32m    105\u001b[0m \u001b[38;5;28;01melse\u001b[39;00m:\n\u001b[1;32m--> 106\u001b[0m     valor \u001b[38;5;241m=\u001b[39m evaluar(valor,\u001b[38;5;28;43mint\u001b[39;49m\u001b[43m(\u001b[49m\u001b[43mvariable\u001b[49m\u001b[43m)\u001b[49m,operador)\n\u001b[0;32m    107\u001b[0m     \u001b[38;5;28mprint\u001b[39m(\u001b[38;5;124mf\u001b[39m\u001b[38;5;124m'\u001b[39m\u001b[38;5;132;01m{\u001b[39;00mvalor\u001b[38;5;132;01m}\u001b[39;00m\u001b[38;5;124m'\u001b[39m)\n\u001b[0;32m    108\u001b[0m     estado \u001b[38;5;241m=\u001b[39m \u001b[38;5;124m'\u001b[39m\u001b[38;5;124mlectura_comando\u001b[39m\u001b[38;5;124m'\u001b[39m\n",
            "\u001b[1;31mValueError\u001b[0m: invalid literal for int() with base 10: ''"
          ]
        }
      ],
      "source": [
        "\n",
        "# EJEMPLO 1:\n",
        "lista = [\"n=5\",\"hanoi=2^n-1\",\"var_1 = 23 - 13 + hanoi * 2\",\"h2 = hanoi /2\",\"\",\"n\"]\n",
        "# lista = ['n=5']\n",
        "\n",
        "calculadora(lista)\n",
        "\n"
      ]
    },
    {
      "cell_type": "markdown",
      "metadata": {
        "id": "ImyhxzK8g3Aw"
      },
      "source": [
        "El resultado del ejemplo anterior debería imprimir en pantalla\n",
        "\n",
        "   n=5\n",
        "\n",
        "   5\n",
        "\n",
        "   hanoi=2^n-1\n",
        "   \n",
        "   31\n",
        "\n",
        "   var_1 = 23 - 13 + hanoi * 2\n",
        "   \n",
        "   82\n",
        "\n",
        "   h2 = hanoi /2\n",
        "   \n",
        "   15\n",
        "\n",
        "   n\n",
        "   \n",
        "   5\n",
        "\n"
      ]
    },
    {
      "cell_type": "markdown",
      "metadata": {
        "id": "FD6ugFUBta2Q"
      },
      "source": [
        "## Ejemplo 2"
      ]
    },
    {
      "cell_type": "code",
      "execution_count": 30,
      "metadata": {
        "id": "omeD7qbcthMR"
      },
      "outputs": [
        {
          "name": "stdout",
          "output_type": "stream",
          "text": [
            "n=5\n",
            "lectura_numero\n",
            "0\n",
            "hanoi=2^n-1\n",
            "lectura_numero\n"
          ]
        },
        {
          "ename": "ValueError",
          "evalue": "invalid literal for int() with base 10: ''",
          "output_type": "error",
          "traceback": [
            "\u001b[1;31m---------------------------------------------------------------------------\u001b[0m",
            "\u001b[1;31mValueError\u001b[0m                                Traceback (most recent call last)",
            "Cell \u001b[1;32mIn[30], line 3\u001b[0m\n\u001b[0;32m      1\u001b[0m \u001b[38;5;66;03m# EJEMPLO 1:\u001b[39;00m\n\u001b[0;32m      2\u001b[0m lista \u001b[38;5;241m=\u001b[39m [\u001b[38;5;124m\"\u001b[39m\u001b[38;5;124mn=5\u001b[39m\u001b[38;5;124m\"\u001b[39m,\u001b[38;5;124m\"\u001b[39m\u001b[38;5;124mhanoi=2^n-1\u001b[39m\u001b[38;5;124m\"\u001b[39m,\u001b[38;5;124m\"\u001b[39m\u001b[38;5;124mvar_1 = 23 - 13 + hanoi2 * 2\u001b[39m\u001b[38;5;124m\"\u001b[39m,\u001b[38;5;124m\"\u001b[39m\u001b[38;5;124mh2 = hanoi /2\u001b[39m\u001b[38;5;124m\"\u001b[39m,\u001b[38;5;124m\"\u001b[39m\u001b[38;5;124m\"\u001b[39m,\u001b[38;5;124m\"\u001b[39m\u001b[38;5;124mn\u001b[39m\u001b[38;5;124m\"\u001b[39m]\n\u001b[1;32m----> 3\u001b[0m \u001b[43mcalculadora\u001b[49m\u001b[43m(\u001b[49m\u001b[43mlista\u001b[49m\u001b[43m)\u001b[49m\n",
            "Cell \u001b[1;32mIn[28], line 153\u001b[0m, in \u001b[0;36mcalculadora\u001b[1;34m(lista_comandos)\u001b[0m\n\u001b[0;32m    151\u001b[0m \u001b[38;5;28;01mfor\u001b[39;00m comando \u001b[38;5;129;01min\u001b[39;00m lista_comandos:\n\u001b[0;32m    152\u001b[0m     \u001b[38;5;28mprint\u001b[39m(comando)\n\u001b[1;32m--> 153\u001b[0m     \u001b[38;5;28mvars\u001b[39m \u001b[38;5;241m=\u001b[39m \u001b[43mprocesar_comando\u001b[49m\u001b[43m(\u001b[49m\u001b[43mcomando\u001b[49m\u001b[43m,\u001b[49m\u001b[43m \u001b[49m\u001b[38;5;28;43mvars\u001b[39;49m\u001b[43m)\u001b[49m\n",
            "Cell \u001b[1;32mIn[28], line 139\u001b[0m, in \u001b[0;36mprocesar_comando\u001b[1;34m(comando, dicc_var)\u001b[0m\n\u001b[0;32m    136\u001b[0m \u001b[38;5;28;01mdef\u001b[39;00m \u001b[38;5;21mprocesar_comando\u001b[39m(comando, dicc_var):\n\u001b[0;32m    137\u001b[0m     \u001b[38;5;66;03m# procesa el comando e imprime el resultado\u001b[39;00m\n\u001b[0;32m    138\u001b[0m     var, k \u001b[38;5;241m=\u001b[39m lectura_variable(comando, dicc_var)\n\u001b[1;32m--> 139\u001b[0m     value \u001b[38;5;241m=\u001b[39m \u001b[43mlectura_expresion\u001b[49m\u001b[43m(\u001b[49m\u001b[43mcomando\u001b[49m\u001b[43m,\u001b[49m\u001b[43mdicc_var\u001b[49m\u001b[43m,\u001b[49m\u001b[43m \u001b[49m\u001b[43mk\u001b[49m\u001b[43m)\u001b[49m\n\u001b[0;32m    140\u001b[0m     \u001b[38;5;28mprint\u001b[39m(value)\n\u001b[0;32m    141\u001b[0m     dicc_var[var] \u001b[38;5;241m=\u001b[39m value \n",
            "Cell \u001b[1;32mIn[28], line 106\u001b[0m, in \u001b[0;36mlectura_expresion\u001b[1;34m(operacion, dicc_var, k2)\u001b[0m\n\u001b[0;32m    104\u001b[0m     \u001b[38;5;28mprint\u001b[39m(estado)\n\u001b[0;32m    105\u001b[0m \u001b[38;5;28;01melse\u001b[39;00m:\n\u001b[1;32m--> 106\u001b[0m     valor \u001b[38;5;241m=\u001b[39m evaluar(valor,\u001b[38;5;28;43mint\u001b[39;49m\u001b[43m(\u001b[49m\u001b[43mvariable\u001b[49m\u001b[43m)\u001b[49m,operador)\n\u001b[0;32m    107\u001b[0m     \u001b[38;5;28mprint\u001b[39m(\u001b[38;5;124mf\u001b[39m\u001b[38;5;124m'\u001b[39m\u001b[38;5;132;01m{\u001b[39;00mvalor\u001b[38;5;132;01m}\u001b[39;00m\u001b[38;5;124m'\u001b[39m)\n\u001b[0;32m    108\u001b[0m     estado \u001b[38;5;241m=\u001b[39m \u001b[38;5;124m'\u001b[39m\u001b[38;5;124mlectura_comando\u001b[39m\u001b[38;5;124m'\u001b[39m\n",
            "\u001b[1;31mValueError\u001b[0m: invalid literal for int() with base 10: ''"
          ]
        }
      ],
      "source": [
        "# EJEMPLO 1:\n",
        "lista = [\"n=5\",\"hanoi=2^n-1\",\"var_1 = 23 - 13 + hanoi2 * 2\",\"h2 = hanoi /2\",\"\",\"n\"]\n",
        "calculadora(lista)"
      ]
    },
    {
      "cell_type": "markdown",
      "metadata": {
        "id": "Ig7zCv9stmXy"
      },
      "source": [
        "El resultado del ejemplo anterior debería imprimir en pantalla\n",
        "\n",
        "n=5\n",
        "\n",
        "5\n",
        "\n",
        "hanoi=2^n-1\n",
        "\n",
        "31\n",
        "\n",
        "var_1 = 23 - 13 + hanoi2 * 2\n",
        "\n",
        "ERROR: variable indefinida \"hanoi2\"\n",
        "\n",
        "h2 = hanoi /2\n",
        "\n",
        "15\n",
        "\n",
        "n\n",
        "\n",
        "5"
      ]
    },
    {
      "cell_type": "markdown",
      "metadata": {
        "id": "4Qy53sN95hDF"
      },
      "source": [
        "## ¿Qué hay que entregar?\n",
        "\n",
        "En esta tarea Usted DEBE entregar, además del programa que implementa la solución, el dibujo que muestra el diagrama de estados que implementa su programa. Esto debe hacerse subiendo un archivo separado (cualquier tipo de documento que pueda contener una imagen o un dibujo, por ejemplo, un PDF, el escaneo de una página donde dibujó a mano el diagrama, etc.).\n",
        "\n",
        " Tal como se ha hecho en tareas anteriores, para su programa usted debe crear una copia de este documento (del menú seleccionar \"Archivo\" o \"File\" y de ahi la opción \"guardar copia en Drive\" o \"save a copy in Drive\"). Este nuevo documento (notebook de Colab) es el que debe modificar para luego compartirlo con la opción \"Cualquier usuario de internet con este enlace puede ver esto\" (o “Anyone on the internet with this link can view”). Esta opción se encuentra disponible en la parte superior derecha de su notebook, en el botón \"Compartir\" (o \"Share\"). Una vez que tenga disponible el enlace, colocarlo en en el lugar de comentarios de la entrega de su tarea (en este caso, como comentario del archvo con el diagrama). No olvide colocar su nombre dentro del notebook.\n",
        "\n",
        " Se puede optar por el 70% de la nota si se implementa todo lo solicitado en el enunciado excepto el manejo de paréntesis. Esto implica que el cálculo de las expresiones deberá realizarse estrictamente de izquierda a derecha, sin considerar la precedencia de operadores. En este caso, las expresiones no incluirán paréntesis anidados ni simples, por lo que no es necesario diseñar un sistema que los procese. El resto de las funcionalidades, como la definición de variables, los operadores permitidos y la detección de errores, deben implementarse completamente."
      ]
    }
  ],
  "metadata": {
    "colab": {
      "provenance": []
    },
    "kernelspec": {
      "display_name": "Python 3",
      "name": "python3"
    },
    "language_info": {
      "codemirror_mode": {
        "name": "ipython",
        "version": 3
      },
      "file_extension": ".py",
      "mimetype": "text/x-python",
      "name": "python",
      "nbconvert_exporter": "python",
      "pygments_lexer": "ipython3",
      "version": "3.12.2"
    }
  },
  "nbformat": 4,
  "nbformat_minor": 0
}

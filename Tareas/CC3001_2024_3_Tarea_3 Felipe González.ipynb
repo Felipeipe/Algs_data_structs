{
  "cells": [
    {
      "cell_type": "markdown",
      "metadata": {
        "id": "v5Mdk3Z7uxJU"
      },
      "source": [
        "# CC3001 Otoño 2024 Tarea 3  Felipe González Poblete\n",
        "\n",
        "# Calculadora\n",
        "\n",
        "### Profesores\n",
        "Sección 1 Patricio Poblete, Nelson Baloian\n",
        "\n",
        "Atención: la forma de entrega tiene requisitos levemente distintos esta vez\n",
        "\n",
        "\n"
      ]
    },
    {
      "cell_type": "markdown",
      "metadata": {
        "id": "cOin18Qr5Y2U"
      },
      "source": [
        "# Enunciado\n",
        "\n",
        "Esta tarea consiste en desarrollar una calculadora de expresiones matemáticas al estilo Matlab o Maple, pero con capacidad de procesar un conjunto de comandos bien restringido. Algunos ejemplos de los comandos que acepta y de lo que debe imprimir en la salida van a continuación:\n",
        "\n",
        "|Entrada (lo que el usuario escribe)   | Salida(lo que imprime el programa)  |\n",
        "|---|---|\n",
        "|n=5   | n=5 |\n",
        "|   | 5 |\n",
        "|hanoi=2^n-1    |hanoi = 2^n-1  |\n",
        "|    |31   |\n",
        "|var_1 = 23 - 13 + hanoi * 2    |var_1 = 23 - 13 + hanoi * 2   |\n",
        "|    | 82   |\n",
        "|h2 = hanoi /2   |h2 = hanoi /2 |\n",
        "|   | 15   |\n",
        "|var_2 = (2+n)*2   |var_2 = (2+n)*2    |\n",
        "|   | 14   |\n",
        "|var_3 = ((1+n)/2 +3)^2   |var_3 = ((1+n)/2 +3)^2   |\n",
        "|   | 36   |\n",
        "|n   |n   |\n",
        "|  | 5   |\n",
        "\n",
        "A continuación definimos más en detalle lo que se debe implementar:\n",
        "\n",
        "\n",
        "\n",
        "1.   Cada comando es de la forma \"variable=expresión\". El efecto es que primero se debe imprimir el comando y luego se debe calcular la expresión de la derecha, guardar el resultado en la variable de la izquierda e imprimir el resultado en la salida. Si se omite desde el \"=\" hacia adelante (como en el último ejemplo), solo se imprime el valor de la variable. Las variables comienzan con letra y continúan con letras, dígitos y el signo \"_\".\n",
        "2.   Los operadores permitidos son \"+\",\"-\",\"*\", \"/\", \"^\".\n",
        "3.   Solo se trabaja con números enteros y todas las operaciones dan resultado entero (incluyendo la división, que trunca).\n",
        "4.   Se puede usar paréntesis, y si no los hay, la expresión se evalúa estrictamente de izquierda a derecha. Eso explica el resultado que se obtiene para \"var_1\", no hay prioridad de operadores. Pueden venir paréntesis anidados (ver ejemplos)\n",
        "\n",
        "  **Nota**: Se puede optar por el 70% de la nota si se implementa todo lo solicitado salvo el manejo de paréntesis. En este caso, las expresiones se evaluarán estrictamente de izquierda a derecha sin considerar la prioridad de operadores, y no se permitirá el uso de paréntesis en las expresiones.\n",
        "\n",
        "5.   Si se utiliza una variable que aún no ha sido definida, se debe dar un error\n",
        "\n",
        "      ERROR: variable indefinida \"...\"\n",
        "\n",
        "6.   Si la sintaxis no es correcta, se debe imprimir en la salida un mensaje de la forma\n",
        "\n",
        "      ERROR: al procesar \"...\"\n",
        "\n",
        "      donde el string que se imprime es la parte de la entrada desde el punto del error hacia adelante.\n",
        "\n",
        "\n",
        "Antes de empezar a escribir código, usted debe dibujar un diagrama de estados que describa la estructura de la entrada. Si le resulta más conveniente, pueden ser varios diagramas (por ejemplo, uno que describa la estructura de una variable, otro la de un número, otra la de un comando). Luego, a partir de ahí escriba el código que implementa esos diagramas. **Importante:** Su código debe ir procesando de un caracter a la vez, para este procesamiento no se puede utilizar funciones de Python que operen sobre strings de largo mayor que uno. Se recomienda tener una función que reciba un comando en un string y lo procese, y otra que reciba una lista de comandos y vaya invocando a la función antes mencionada para procesarlos.\n",
        "\n",
        "Para almacenar los nombres y valores de las variables, está permitido el uso de un diccionario de Python.\n",
        "\n",
        "En su entrega debe describir brevemente el problema, luego describir la estrategia de solución haciendo referencia a su(s) diagrama(s) de estados, y a continuación el código ejecutable respectivo, agregando todas las explicaciones necesarias para que se entienda.\n",
        "\n"
      ]
    },
    {
      "cell_type": "code",
      "execution_count": 19,
      "metadata": {
        "id": "_ErWcgGJfhQZ"
      },
      "outputs": [
        {
          "name": "stdout",
          "output_type": "stream",
          "text": [
            "['_', '-', '<', '>', '!', '#', '$', '%', '&', 'a', 'b', 'c', 'd', 'e', 'f', 'g', 'h', 'i', 'j', 'k', 'l', 'm', 'n', 'o', 'p', 'q', 'r', 's', 't', 'u', 'v', 'w', 'x', 'y', 'z', 'A', 'B', 'C', 'D', 'E', 'F', 'G', 'H', 'I', 'J', 'K', 'L', 'M', 'N', 'O', 'P', 'Q', 'R', 'S', 'T', 'U', 'V', 'W', 'X', 'Y', 'Z']\n",
            "<class 'list'>\n"
          ]
        }
      ],
      "source": [
        "# from string import ascii_letters # se importa las letras comunes a,b,c,...,z,A,B,...,Z\n",
        "# permitidos_str = '_-<>!#$%&' + ascii_letters\n",
        "# permitidos = list(permitidos_str)\n",
        "\n",
        "\n",
        "\n",
        "def lectura_variable(operacion, cierre):\n",
        "    \"\"\"Recibe un string de la forma '{variable}={expresion}'\n",
        "    y entrega una tupla, conteniendo el nombre de la variable\n",
        "    y el índice donde se encuentra el signo {cierre}\n",
        "    \"\"\"\n",
        "    k = 0\n",
        "    var = ''\n",
        "    while k < len(operacion):\n",
        "        if (operacion[k] == cierre and k != 0):\n",
        "            return (var,k)\n",
        "        elif operacion [k] != ' ':\n",
        "            var += operacion[k]\n",
        "        k += 1\n",
        "    print(f'ERROR: al procesar {operacion}')\n",
        "\n",
        "def lectura_expresion(operacion, dicc_var, k):\n",
        "    \"\"\"\n",
        "    Recibe un string de la forma '{variable}={expresion}' y comienza a leer desde la \n",
        "    (k+1)-ésima posición.\n",
        "    devuelve un número.\n",
        "    \"\"\"\n",
        "    simbolos_permitidos = ['+', '-', '*', '/', '^', '(', ')'] \n",
        "    k2 = k + 1\n",
        "    while k2 < (len(operacion) - k):\n",
        "        int()\n",
        "        k+=1\n",
        "    pass   \n",
        "    \n",
        "    \n",
        "# Esta función recibe un comando en string y el diccionario de variables. Con él,\n",
        "# procesa el comando, imprime el resultado de la expresion\n",
        "# y posiblemente modifica el diccionario. La función retorna el diccionario\n",
        "def procesar_comando(comando, dicc_var):\n",
        "    # procesa el comando e imprime el resultado\n",
        "    var, k = lectura_variable(comando,'=')\n",
        "    value = lectura_expresion(comando,dicc_var, k)\n",
        "    dicc_var[var] = value \n",
        "    return dicc_var\n",
        "\n",
        "def calculadora(lista_comandos):\n",
        "    # Este diccionario almacena las variables que se vayan definiendo en la calculadora\n",
        "    # Este diccionario se inicializa cuando se usa la calculadora\n",
        "    vars = dict()\n",
        "\n",
        "  # Se procesan todos los comandos de la lista (lista de string)\n",
        "    for i in range(0, len(lista_comandos)):\n",
        "        vars = procesar_comando(lista_comandos[i], vars)\n"
      ]
    },
    {
      "cell_type": "markdown",
      "metadata": {
        "id": "bJRKyHEBtUN5"
      },
      "source": [
        "## Ejemplo 1"
      ]
    },
    {
      "cell_type": "code",
      "execution_count": 138,
      "metadata": {
        "id": "0w4sivX3tWiH"
      },
      "outputs": [],
      "source": [
        "\n",
        "# EJEMPLO 1:\n",
        "lista = [\"n=5\",\"hanoi=2^n-1\",\"var_1 = 23 - 13 + hanoi * 2\",\"h2 = hanoi /2\",\"\",\"n\"]\n",
        "calculadora(lista)\n"
      ]
    },
    {
      "cell_type": "markdown",
      "metadata": {
        "id": "ImyhxzK8g3Aw"
      },
      "source": [
        "El resultado del ejemplo anterior debería imprimir en pantalla\n",
        "\n",
        "   n=5\n",
        "\n",
        "   5\n",
        "\n",
        "   hanoi=2^n-1\n",
        "   \n",
        "   31\n",
        "\n",
        "   var_1 = 23 - 13 + hanoi * 2\n",
        "   \n",
        "   82\n",
        "\n",
        "   h2 = hanoi /2\n",
        "   \n",
        "   15\n",
        "\n",
        "   n\n",
        "   \n",
        "   5\n",
        "\n"
      ]
    },
    {
      "cell_type": "markdown",
      "metadata": {
        "id": "FD6ugFUBta2Q"
      },
      "source": [
        "## Ejemplo 2"
      ]
    },
    {
      "cell_type": "code",
      "execution_count": 139,
      "metadata": {
        "id": "omeD7qbcthMR"
      },
      "outputs": [],
      "source": [
        "# EJEMPLO 1:\n",
        "lista = [\"n=5\",\"hanoi=2^n-1\",\"var_1 = 23 - 13 + hanoi2 * 2\",\"h2 = hanoi /2\",\"\",\"n\"]\n",
        "calculadora(lista)"
      ]
    },
    {
      "cell_type": "markdown",
      "metadata": {
        "id": "Ig7zCv9stmXy"
      },
      "source": [
        "El resultado del ejemplo anterior debería imprimir en pantalla\n",
        "\n",
        "n=5\n",
        "\n",
        "5\n",
        "\n",
        "hanoi=2^n-1\n",
        "\n",
        "31\n",
        "\n",
        "var_1 = 23 - 13 + hanoi2 * 2\n",
        "\n",
        "ERROR: variable indefinida \"hanoi2\"\n",
        "\n",
        "h2 = hanoi /2\n",
        "\n",
        "15\n",
        "\n",
        "n\n",
        "\n",
        "5"
      ]
    },
    {
      "cell_type": "markdown",
      "metadata": {
        "id": "4Qy53sN95hDF"
      },
      "source": [
        "## ¿Qué hay que entregar?\n",
        "\n",
        "En esta tarea Usted DEBE entregar, además del programa que implementa la solución, el dibujo que muestra el diagrama de estados que implementa su programa. Esto debe hacerse subiendo un archivo separado (cualquier tipo de documento que pueda contener una imagen o un dibujo, por ejemplo, un PDF, el escaneo de una página donde dibujó a mano el diagrama, etc.).\n",
        "\n",
        " Tal como se ha hecho en tareas anteriores, para su programa usted debe crear una copia de este documento (del menú seleccionar \"Archivo\" o \"File\" y de ahi la opción \"guardar copia en Drive\" o \"save a copy in Drive\"). Este nuevo documento (notebook de Colab) es el que debe modificar para luego compartirlo con la opción \"Cualquier usuario de internet con este enlace puede ver esto\" (o “Anyone on the internet with this link can view”). Esta opción se encuentra disponible en la parte superior derecha de su notebook, en el botón \"Compartir\" (o \"Share\"). Una vez que tenga disponible el enlace, colocarlo en en el lugar de comentarios de la entrega de su tarea (en este caso, como comentario del archvo con el diagrama). No olvide colocar su nombre dentro del notebook.\n",
        "\n",
        " Se puede optar por el 70% de la nota si se implementa todo lo solicitado en el enunciado excepto el manejo de paréntesis. Esto implica que el cálculo de las expresiones deberá realizarse estrictamente de izquierda a derecha, sin considerar la precedencia de operadores. En este caso, las expresiones no incluirán paréntesis anidados ni simples, por lo que no es necesario diseñar un sistema que los procese. El resto de las funcionalidades, como la definición de variables, los operadores permitidos y la detección de errores, deben implementarse completamente."
      ]
    }
  ],
  "metadata": {
    "colab": {
      "provenance": []
    },
    "kernelspec": {
      "display_name": "Python 3",
      "name": "python3"
    },
    "language_info": {
      "codemirror_mode": {
        "name": "ipython",
        "version": 3
      },
      "file_extension": ".py",
      "mimetype": "text/x-python",
      "name": "python",
      "nbconvert_exporter": "python",
      "pygments_lexer": "ipython3",
      "version": "3.12.2"
    }
  },
  "nbformat": 4,
  "nbformat_minor": 0
}

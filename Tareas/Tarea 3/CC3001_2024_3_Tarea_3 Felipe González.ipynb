{
  "cells": [
    {
      "cell_type": "markdown",
      "metadata": {
        "id": "v5Mdk3Z7uxJU"
      },
      "source": [
        "# CC3001 Otoño 2024 Tarea 3  Felipe González Poblete\n",
        "\n",
        "# Calculadora\n",
        "\n",
        "### Profesores\n",
        "Sección 1 Patricio Poblete, Nelson Baloian\n",
        "\n",
        "Atención: la forma de entrega tiene requisitos levemente distintos esta vez\n",
        "\n",
        "\n"
      ]
    },
    {
      "cell_type": "markdown",
      "metadata": {
        "id": "cOin18Qr5Y2U"
      },
      "source": [
        "# Enunciado\n",
        "\n",
        "Esta tarea consiste en desarrollar una calculadora de expresiones matemáticas al estilo Matlab o Maple, pero con capacidad de procesar un conjunto de comandos bien restringido. Algunos ejemplos de los comandos que acepta y de lo que debe imprimir en la salida van a continuación:\n",
        "\n",
        "|Entrada (lo que el usuario escribe)   | Salida(lo que imprime el programa)  |\n",
        "|---|---|\n",
        "|n=5   | n=5 |\n",
        "|   | 5 |\n",
        "|hanoi=2^n-1    |hanoi = 2^n-1  |\n",
        "|    |31   |\n",
        "|var_1 = 23 - 13 + hanoi * 2    |var_1 = 23 - 13 + hanoi * 2   |\n",
        "|    | 82   |\n",
        "|h2 = hanoi /2   |h2 = hanoi /2 |\n",
        "|   | 15   |\n",
        "|var_2 = (2+n)*2   |var_2 = (2+n)*2    |\n",
        "|   | 14   |\n",
        "|var_3 = ((1+n)/2 +3)^2   |var_3 = ((1+n)/2 +3)^2   |\n",
        "|   | 36   |\n",
        "|n   |n   |\n",
        "|  | 5   |\n",
        "\n",
        "A continuación definimos más en detalle lo que se debe implementar:\n",
        "\n",
        "\n",
        "\n",
        "1.   Cada comando es de la forma \"variable=expresión\". El efecto es que primero se debe imprimir el comando y luego se debe calcular la expresión de la derecha, guardar el resultado en la variable de la izquierda e imprimir el resultado en la salida. Si se omite desde el \"=\" hacia adelante (como en el último ejemplo), solo se imprime el valor de la variable. Las variables comienzan con letra y continúan con letras, dígitos y el signo \"_\".\n",
        "2.   Los operadores permitidos son \"+\",\"-\",\"*\", \"/\", \"^\".\n",
        "3.   Solo se trabaja con números enteros y todas las operaciones dan resultado entero (incluyendo la división, que trunca).\n",
        "4.   Se puede usar paréntesis, y si no los hay, la expresión se evalúa estrictamente de izquierda a derecha. Eso explica el resultado que se obtiene para \"var_1\", no hay prioridad de operadores. Pueden venir paréntesis anidados (ver ejemplos)\n",
        "\n",
        "  **Nota**: Se puede optar por el 70% de la nota si se implementa todo lo solicitado salvo el manejo de paréntesis. En este caso, las expresiones se evaluarán estrictamente de izquierda a derecha sin considerar la prioridad de operadores, y no se permitirá el uso de paréntesis en las expresiones.\n",
        "\n",
        "5.   Si se utiliza una variable que aún no ha sido definida, se debe dar un error\n",
        "\n",
        "      ERROR: variable indefinida \"...\"\n",
        "\n",
        "6.   Si la sintaxis no es correcta, se debe imprimir en la salida un mensaje de la forma\n",
        "\n",
        "      ERROR: al procesar \"...\"\n",
        "\n",
        "      donde el string que se imprime es la parte de la entrada desde el punto del error hacia adelante.\n",
        "\n",
        "\n",
        "Antes de empezar a escribir código, usted debe dibujar un diagrama de estados que describa la estructura de la entrada. Si le resulta más conveniente, pueden ser varios diagramas (por ejemplo, uno que describa la estructura de una variable, otro la de un número, otra la de un comando). Luego, a partir de ahí escriba el código que implementa esos diagramas. **Importante:** Su código debe ir procesando de un caracter a la vez, para este procesamiento no se puede utilizar funciones de Python que operen sobre strings de largo mayor que uno. Se recomienda tener una función que reciba un comando en un string y lo procese, y otra que reciba una lista de comandos y vaya invocando a la función antes mencionada para procesarlos.\n",
        "\n",
        "Para almacenar los nombres y valores de las variables, está permitido el uso de un diccionario de Python.\n",
        "\n",
        "En su entrega debe describir brevemente el problema, luego describir la estrategia de solución haciendo referencia a su(s) diagrama(s) de estados, y a continuación el código ejecutable respectivo, agregando todas las explicaciones necesarias para que se entienda.\n",
        "\n"
      ]
    },
    {
      "cell_type": "code",
      "execution_count": 1,
      "metadata": {},
      "outputs": [],
      "source": [
        "def estado_leer_comando(op_char,k):\n",
        "    \"\"\"recibe un string de largo 1 y retorna el estado correspondiente\n",
        "    \"\"\"\n",
        "    estado = 'lectura_comando'\n",
        "    separadores = ' +-*/^'\n",
        "    if k == 0:\n",
        "        estado = 'imprimir_variable'\n",
        "    \n",
        "    if op_char.isalpha():\n",
        "        estado = 'lectura_variable'\n",
        "\n",
        "    elif op_char.isdecimal():\n",
        "        estado = 'lectura_numero'\n",
        "\n",
        "    elif op_char in separadores:\n",
        "        estado = 'guardar_operador'\n",
        "\n",
        "    else:\n",
        "        estado = 'ERROR: al procesar'\n",
        "    \n",
        "    return estado\n",
        "\n"
      ]
    },
    {
      "cell_type": "code",
      "execution_count": 2,
      "metadata": {},
      "outputs": [],
      "source": [
        "def lectura_variable(operacion, dicc_var):\n",
        "    \"\"\"Recibe un string de la forma '{variable}={expresion}'\n",
        "    y entrega una tupla, conteniendo el nombre de la variable\n",
        "    y el índice donde se encuentra el signo '='\n",
        "    \"\"\"\n",
        "    k = 0\n",
        "    var = ''\n",
        "    simbolos_prohibidos = ' +-*/^'\n",
        "        \n",
        "    while k < len(operacion) and len(operacion) != 0:\n",
        "        if operacion in dicc_var:\n",
        "            return var, -1\n",
        "        \n",
        "        if (operacion[k] == '=' and k != 0):\n",
        "            return var,k\n",
        "        \n",
        "        elif operacion[k] not in simbolos_prohibidos:\n",
        "            var += operacion[k]\n",
        "        \n",
        "        k += 1\n",
        "    return var, k"
      ]
    },
    {
      "cell_type": "code",
      "execution_count": 3,
      "metadata": {},
      "outputs": [],
      "source": [
        "def evaluar(base, numero, operador):\n",
        "    \"\"\" operadores permitidos: ' +-*/^'\n",
        "    Recibe un entero y un entero base y entrega base ~ numero, \n",
        "    donde ~ es cualquiera de los operadores permitidos\n",
        "    \"\"\"    \n",
        "    if operador == '+' or operador == '':\n",
        "        return base + numero\n",
        "    elif operador == '-':\n",
        "        return base - numero\n",
        "    elif operador == '*':\n",
        "        return base * numero\n",
        "    elif operador == '/':\n",
        "        return base // numero\n",
        "    elif operador == '^':\n",
        "        return base ** numero\n",
        "    else:\n",
        "        return ''"
      ]
    },
    {
      "cell_type": "code",
      "execution_count": 4,
      "metadata": {},
      "outputs": [],
      "source": [
        "def procesar_expresion(operacion, dicc_var, k2):\n",
        "    \"\"\"\n",
        "    Recibe un string de la forma '{variable}={expresion}' y comienza a leer desde la \n",
        "    (k+1)-ésima posición.\n",
        "    devuelve un número.\n",
        "    \"\"\"\n",
        "    separadores = ' +-*/^'\n",
        "    k = k2 + 1\n",
        "    variable = ''\n",
        "    operador = ''\n",
        "    valor = 0\n",
        "    estado = 'lectura_comando'\n",
        "    N = len(operacion)\n",
        "    \n",
        "    while estado != 'success':\n",
        "        if k >= N:\n",
        "            estado = 'success'\n",
        "        \n",
        "        if estado == 'lectura_comando':\n",
        "            variable = ''\n",
        "            estado = estado_leer_comando(operacion[k], k)            \n",
        "        \n",
        "        if estado == 'lectura_variable':\n",
        "                        \n",
        "            if operacion[k] not in separadores:\n",
        "                variable += operacion[k]\n",
        "                k += 1\n",
        "            \n",
        "            if k >= len(operacion) or operacion[k] in separadores:\n",
        "                if variable in dicc_var:\n",
        "                    valor_variable = dicc_var[variable]\n",
        "                    valor = evaluar(valor, valor_variable, operador)\n",
        "                    estado = 'lectura_comando'\n",
        "                else:\n",
        "                    estado = 'ERROR: variable indefinida'\n",
        "                    \n",
        "                    \n",
        "        if estado == 'lectura_numero':\n",
        "            if operacion[k].isalpha():\n",
        "                estado = 'ERROR: al procesar'\n",
        "                \n",
        "            elif operacion[k] not in separadores :\n",
        "                variable += operacion[k]\n",
        "                k += 1\n",
        "                \n",
        "                if k >= N:\n",
        "                    estado = 'success'\n",
        "                    valor = evaluar(valor,int(variable),operador)\n",
        "                \n",
        "                elif operacion[k] in separadores:\n",
        "                    valor = evaluar(valor,int(variable),operador)\n",
        "                    estado = 'guardar_operador'\n",
        "                \n",
        "                \n",
        "        if estado == 'imprimir_variable':\n",
        "            valor = dicc_var[operacion]\n",
        "            estado = 'procesar_comando'\n",
        "            return valor\n",
        "        \n",
        "        if estado == 'guardar_operador':\n",
        "            if operacion[k] != ' ':\n",
        "                operador = operacion[k]\n",
        "            estado = 'lectura_comando'\n",
        "            k += 1\n",
        "                        \n",
        "        if estado == 'success':\n",
        "            return valor\n",
        "            \n",
        "        if estado == 'ERROR: variable indefinida':\n",
        "            return f'ERROR: variable indefinida {variable}'\n",
        "        \n",
        "        if estado == 'ERROR: al procesar':\n",
        "            return f'ERROR: variable indefinida {variable}'   \n",
        "    return valor"
      ]
    },
    {
      "cell_type": "code",
      "execution_count": null,
      "metadata": {},
      "outputs": [],
      "source": [
        "def lectura_parentesis(operacion, dicc_var, k2):\n",
        "    \"\"\"recibe una expresion con parentesis y va evaluando segun\n",
        "    los parentesis que recibe, guardando los valores de los\n",
        "    parentesis anidados\n",
        "    o al menos esa es la idea jaja\"\"\"\n",
        "    \n",
        "    dic_parentesis = {}\n",
        "    \n",
        "    return valor"
      ]
    },
    {
      "cell_type": "code",
      "execution_count": 5,
      "metadata": {},
      "outputs": [],
      "source": [
        "\n",
        "def procesar_comando(comando, dicc_var):\n",
        "    \"\"\"Esta función recibe un comando en string y el diccionario de variables. Con él,\n",
        "    procesa el comando, imprime el resultado de la expresion\n",
        "    y posiblemente modifica el diccionario. La función retorna el diccionario\"\"\"\n",
        "    var, k = lectura_variable(comando, dicc_var)\n",
        "    value = procesar_expresion(comando,dicc_var, k)\n",
        "    \n",
        "    if type(value) != str:\n",
        "        dicc_var[var] = value \n",
        "    print(value)\n",
        "    return dicc_var\n"
      ]
    },
    {
      "cell_type": "code",
      "execution_count": 6,
      "metadata": {},
      "outputs": [],
      "source": [
        "def calculadora(lista_comandos):\n",
        "    \"\"\"Este diccionario almacena las variables que se vayan definiendo en la calculadora\n",
        "    Este diccionario se inicializa cuando se usa la calculadora\"\"\"\n",
        "    vars = {}\n",
        "    n = len(lista_comandos)\n",
        "\n",
        "  # Se procesan todos los comandos de la lista (lista de string)\n",
        "    for i, comando in enumerate(lista_comandos):\n",
        "        if comando != '':\n",
        "            print(f'{comando}')\n",
        "            vars = procesar_comando(comando, vars)"
      ]
    },
    {
      "cell_type": "code",
      "execution_count": 7,
      "metadata": {
        "id": "0w4sivX3tWiH"
      },
      "outputs": [
        {
          "name": "stdout",
          "output_type": "stream",
          "text": [
            "\u001b[95m\n",
            "============== EJEMPLO 1 ===============\u001b[00m\n",
            "n=5\n",
            "5\n",
            "hanoi=2^n-1\n",
            "31\n",
            "var_1 = 23 - 13 + hanoi * 2\n",
            "82\n",
            "h2 = hanoi /2\n",
            "15\n",
            "n\n",
            "5\n",
            "\u001b[95m\n",
            "============== EJEMPLO 2 ===============\u001b[00m\n",
            "n=5\n",
            "5\n",
            "hanoi=2^n-1\n",
            "31\n",
            "var_1 = 23 - 13 + hanoi2 * 2\n",
            "ERROR: variable indefinida hanoi2\n",
            "h2 = hanoi /2\n",
            "15\n",
            "n\n",
            "5\n"
          ]
        }
      ],
      "source": [
        "lista1 = [\"n=5\",\"hanoi=2^n-1\",\"var_1 = 23 - 13 + hanoi * 2\",\"h2 = hanoi /2\",\"\",\"n\"]\n",
        "lista2 = [\"n=5\",\"hanoi=2^n-1\",\"var_1 = 23 - 13 + hanoi2 * 2\",\"h2 = hanoi /2\",\"\",\"n\"]\n",
        "\n",
        "L = [lista1,lista2]\n",
        "\n",
        "for i, lista in enumerate(L):\n",
        "    ej = f' EJEMPLO {i+1} '\n",
        "    print(f\"\\033[95m\\n{ej.center(40,'=')}\\033[00m\")\n",
        "    calculadora(lista)"
      ]
    },
    {
      "cell_type": "markdown",
      "metadata": {
        "id": "ImyhxzK8g3Aw"
      },
      "source": [
        "El resultado del ejemplo anterior debería imprimir en pantalla\n",
        "\n",
        "   n=5\n",
        "\n",
        "   5\n",
        "\n",
        "   hanoi=2^n-1\n",
        "   \n",
        "   31\n",
        "\n",
        "   var_1 = 23 - 13 + hanoi * 2\n",
        "   \n",
        "   82\n",
        "\n",
        "   h2 = hanoi /2\n",
        "   \n",
        "   15\n",
        "\n",
        "   n\n",
        "   \n",
        "   5\n",
        "\n"
      ]
    },
    {
      "cell_type": "markdown",
      "metadata": {
        "id": "FD6ugFUBta2Q"
      },
      "source": [
        "## Ejemplo 2"
      ]
    },
    {
      "cell_type": "markdown",
      "metadata": {
        "id": "Ig7zCv9stmXy"
      },
      "source": [
        "El resultado del ejemplo anterior debería imprimir en pantalla\n",
        "\n",
        "n=5\n",
        "\n",
        "5\n",
        "\n",
        "hanoi=2^n-1\n",
        "\n",
        "31\n",
        "\n",
        "var_1 = 23 - 13 + hanoi2 * 2\n",
        "\n",
        "ERROR: variable indefinida \"hanoi2\"\n",
        "\n",
        "h2 = hanoi /2\n",
        "\n",
        "15\n",
        "\n",
        "n\n",
        "\n",
        "5"
      ]
    },
    {
      "cell_type": "markdown",
      "metadata": {
        "id": "4Qy53sN95hDF"
      },
      "source": [
        "## ¿Qué hay que entregar?\n",
        "\n",
        "En esta tarea Usted DEBE entregar, además del programa que implementa la solución, el dibujo que muestra el diagrama de estados que implementa su programa. Esto debe hacerse subiendo un archivo separado (cualquier tipo de documento que pueda contener una imagen o un dibujo, por ejemplo, un PDF, el escaneo de una página donde dibujó a mano el diagrama, etc.).\n",
        "\n",
        " Tal como se ha hecho en tareas anteriores, para su programa usted debe crear una copia de este documento (del menú seleccionar \"Archivo\" o \"File\" y de ahi la opción \"guardar copia en Drive\" o \"save a copy in Drive\"). Este nuevo documento (notebook de Colab) es el que debe modificar para luego compartirlo con la opción \"Cualquier usuario de internet con este enlace puede ver esto\" (o “Anyone on the internet with this link can view”). Esta opción se encuentra disponible en la parte superior derecha de su notebook, en el botón \"Compartir\" (o \"Share\"). Una vez que tenga disponible el enlace, colocarlo en en el lugar de comentarios de la entrega de su tarea (en este caso, como comentario del archvo con el diagrama). No olvide colocar su nombre dentro del notebook.\n",
        "\n",
        " Se puede optar por el 70% de la nota si se implementa todo lo solicitado en el enunciado excepto el manejo de paréntesis. Esto implica que el cálculo de las expresiones deberá realizarse estrictamente de izquierda a derecha, sin considerar la precedencia de operadores. En este caso, las expresiones no incluirán paréntesis anidados ni simples, por lo que no es necesario diseñar un sistema que los procese. El resto de las funcionalidades, como la definición de variables, los operadores permitidos y la detección de errores, deben implementarse completamente."
      ]
    }
  ],
  "metadata": {
    "colab": {
      "provenance": []
    },
    "kernelspec": {
      "display_name": "Python 3",
      "name": "python3"
    },
    "language_info": {
      "codemirror_mode": {
        "name": "ipython",
        "version": 3
      },
      "file_extension": ".py",
      "mimetype": "text/x-python",
      "name": "python",
      "nbconvert_exporter": "python",
      "pygments_lexer": "ipython3",
      "version": "3.12.2"
    }
  },
  "nbformat": 4,
  "nbformat_minor": 0
}

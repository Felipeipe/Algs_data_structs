{
  "cells": [
    {
      "cell_type": "markdown",
      "metadata": {
        "id": "deCM246B_yVT"
      },
      "source": [
        "# CC3001 Primavera 2024 Tarea 5 Felipe González Poblete\n",
        "\n",
        "## ABB+\n",
        "\n",
        "### Profesores\n",
        "Sección 1 Patricio Poblete / Nelson Baloian"
      ]
    },
    {
      "cell_type": "code",
      "execution_count": 10,
      "metadata": {
        "id": "TgslhNA3Pivn"
      },
      "outputs": [],
      "source": [
        "import aed_utilities as aed\n",
        "import numpy as np"
      ]
    },
    {
      "cell_type": "markdown",
      "metadata": {
        "id": "WJAI-Lep7jKt"
      },
      "source": [
        "## Introducción\n",
        "\n",
        "Un *árbol de búsqueda binaria+* (*ABB+*) es un ABB modificado para que las $n$ llaves que están almacenadas en los nodos internos aparezcan además en las hojas, en orden ascendente,de izquierda a derecha. La última hoja de la derecha tiene una llave especial ``inf``(\"$+\\infty$\"), como se ve en el siguiente ejemplo:\n",
        "\n",
        "![Ejemplo ABB+](https://drive.google.com/uc?export=view&id=1-SAU_CJ_nHd63KgOpZAUO1-AiiHlvu6g)\n",
        "\n",
        "Para buscar una llave $x$ en este árbol, comenzamos en la raíz y vamos preguntando si $x$ es $\\le$ que la llave de ese nodo. Si la respuesta es que sí, bajamos hacia la izquierda; si no, bajamos hacia la derecha. Al llegar finalmente a una hoja, ahí se compara por igualdad para ver si la llave buscada está ahí o no.\n",
        "\n",
        "En comparación con un ABB, el correspondiente ABB+ hace búsquedas más eficientes, porque hace solo una pregunta por nodo, en lugar de las dos que se hacen en el ABB (primero preguntando por igualdad y luego por menor o mayor).\n",
        "\n",
        "Nótese que un ABB+ vacío (cero llaves) consiste de una sola hoja con ``inf``en su interior."
      ]
    },
    {
      "cell_type": "markdown",
      "metadata": {
        "id": "4KFJDmzuG0jF"
      },
      "source": [
        "## Objetivo de la tarea\n",
        "\n",
        "Su trabajo consiste en implementar las clases ``Arbol``, ``Nodoi`` y ``Nodoe`` y los métodos ``insert`` y ``search`` en todos lugares en donde corresponda (no se pide implementar ``delete``). Luego debe ejecutar los casos de prueba que se indica.\n",
        "\n",
        "Esta tarea se puede resolver con recursividad o sin recursividad. Usted debe decidir cuál enfoque usar.\n",
        "\n",
        "En el código que aparece a continuación usted debe agregar todo lo necesario para que la implementación esté completa."
      ]
    },
    {
      "cell_type": "code",
      "execution_count": 11,
      "metadata": {
        "id": "u9r5rdeVIh-M"
      },
      "outputs": [],
      "source": [
        "class Nodoi:\n",
        "    def __init__(self, izq, info, der):\n",
        "        self.izq=izq\n",
        "        self.info=info\n",
        "        self.der=der\n",
        "\n",
        "class Nodoe:\n",
        "    def __init__(self,info):\n",
        "        self.info=info\n",
        "\n",
        "class Arbol:\n",
        "    def __init__(self,raiz=Nodoe(np.inf)):\n",
        "        self.raiz=raiz\n",
        "        \n",
        "    def insert(self,x):\n",
        "       pass\n",
        "\n",
        "    \n",
        "    def search(self,x):\n",
        "        if self.raiz is None or self.raiz.info == x:\n",
        "            return self\n",
        "        if x > \n",
        "\n",
        "        \n",
        "\n",
        "    def dibujar(self): \n",
        "        btd = aed.BinaryTreeDrawer(fieldData=\"info\", fieldLeft=\"izq\", fieldRight=\"der\", classNone=Nodoe)\n",
        "        btd.draw_tree(self, \"raiz\")\n"
      ]
    },
    {
      "cell_type": "markdown",
      "metadata": {
        "id": "HCxFXP1lJqr5"
      },
      "source": [
        "La siguiente función es útil para probar su implementación:"
      ]
    },
    {
      "cell_type": "code",
      "execution_count": 12,
      "metadata": {
        "id": "KSZUXuskJxTz"
      },
      "outputs": [],
      "source": [
        "def test(a,x):\n",
        "    print(x, \"está\" if a.search(x) is not None else \"no está\")"
      ]
    },
    {
      "cell_type": "markdown",
      "metadata": {
        "id": "Z-gp17XpJ3lF"
      },
      "source": [
        "## Prueba 1: Construir un árbol por inserciones sucesivas"
      ]
    },
    {
      "cell_type": "code",
      "execution_count": 13,
      "metadata": {
        "id": "vWSH6OGmKCec"
      },
      "outputs": [
        {
          "data": {
            "image/svg+xml": [
              "<svg xmlns=\"http://www.w3.org/2000/svg\" xmlns:xlink=\"http://www.w3.org/1999/xlink\" width=\"44pt\" height=\"44pt\" viewBox=\"0.00 0.00 44.00 44.00\">\n",
              "<g id=\"graph0\" class=\"graph\" transform=\"scale(1 1) rotate(0) translate(4 40)\">\n",
              "<title>Arbol</title>\n",
              "<polygon fill=\"white\" stroke=\"transparent\" points=\"-4,4 -4,-40 40,-40 40,4 -4,4\"/>\n",
              "<!-- node0 -->\n",
              "<g id=\"node1\" class=\"node\">\n",
              "<title>node0</title>\n",
              "<polygon fill=\"none\" stroke=\"black\" points=\"36,-36 0,-36 0,0 36,0 36,-36\"/>\n",
              "<text text-anchor=\"middle\" x=\"18\" y=\"-14.3\" font-family=\"Times New Roman,serif\" font-size=\"14.00\">+∞</text>\n",
              "</g>\n",
              "</g>\n",
              "</svg>"
            ],
            "text/plain": [
              "<IPython.core.display.SVG object>"
            ]
          },
          "metadata": {},
          "output_type": "display_data"
        },
        {
          "name": "stdout",
          "output_type": "stream",
          "text": [
            "62 no está\n",
            "95 no está\n"
          ]
        }
      ],
      "source": [
        "a=Arbol()\n",
        "a.insert(40)\n",
        "a.insert(25)\n",
        "a.insert(32)\n",
        "a.insert(90)\n",
        "a.insert(62)\n",
        "a.insert(55)\n",
        "a.insert(70)\n",
        "a.dibujar()\n",
        "test(a,62)\n",
        "test(a,95)"
      ]
    },
    {
      "cell_type": "markdown",
      "metadata": {
        "id": "dCxvvr9EKL9e"
      },
      "source": [
        "## Prueba 2: Agregar una llave que no estaba y buscarla"
      ]
    },
    {
      "cell_type": "code",
      "execution_count": 14,
      "metadata": {
        "id": "ck2rZ-8MKS6J"
      },
      "outputs": [
        {
          "data": {
            "image/svg+xml": [
              "<svg xmlns=\"http://www.w3.org/2000/svg\" xmlns:xlink=\"http://www.w3.org/1999/xlink\" width=\"44pt\" height=\"44pt\" viewBox=\"0.00 0.00 44.00 44.00\">\n",
              "<g id=\"graph0\" class=\"graph\" transform=\"scale(1 1) rotate(0) translate(4 40)\">\n",
              "<title>Arbol</title>\n",
              "<polygon fill=\"white\" stroke=\"transparent\" points=\"-4,4 -4,-40 40,-40 40,4 -4,4\"/>\n",
              "<!-- node0 -->\n",
              "<g id=\"node1\" class=\"node\">\n",
              "<title>node0</title>\n",
              "<polygon fill=\"none\" stroke=\"black\" points=\"36,-36 0,-36 0,0 36,0 36,-36\"/>\n",
              "<text text-anchor=\"middle\" x=\"18\" y=\"-14.3\" font-family=\"Times New Roman,serif\" font-size=\"14.00\">+∞</text>\n",
              "</g>\n",
              "</g>\n",
              "</svg>"
            ],
            "text/plain": [
              "<IPython.core.display.SVG object>"
            ]
          },
          "metadata": {},
          "output_type": "display_data"
        },
        {
          "name": "stdout",
          "output_type": "stream",
          "text": [
            "95 no está\n"
          ]
        }
      ],
      "source": [
        "a.insert(95)\n",
        "a.dibujar()\n",
        "test(a,95)"
      ]
    },
    {
      "cell_type": "markdown",
      "metadata": {
        "id": "kTFnyLnlwc-E"
      },
      "source": [
        "## ¿Qué hay que entregar?\n",
        "\n",
        "Usted debe crear una copia de este documento (del menú seleccionar \"Archivo\" o \"File\" y de ahi la opción \"guardar copia en Drive\" o \"save a copy in Drive\"). Este nuevo documento (notebook de Colab) es el que debe modificar para luego compartirlo con la opción \"Cualquier usuario de internet con este enlace puede ver esto\" (o “Anyone on the internet with this link can view”). Esta opción se encuentra disponible en la parte superior derecha de su notebook, en el botón \"Compartir\" (o \"Share\"). Una vez que tenga disponible el enlace, colocarlo en la descripción de la entrega de su tarea. No olvide colocar su nombre dentro del notebook."
      ]
    }
  ],
  "metadata": {
    "colab": {
      "provenance": []
    },
    "kernelspec": {
      "display_name": "Python 3",
      "name": "python3"
    },
    "language_info": {
      "codemirror_mode": {
        "name": "ipython",
        "version": 3
      },
      "file_extension": ".py",
      "mimetype": "text/x-python",
      "name": "python",
      "nbconvert_exporter": "python",
      "pygments_lexer": "ipython3",
      "version": "3.12.2"
    }
  },
  "nbformat": 4,
  "nbformat_minor": 0
}

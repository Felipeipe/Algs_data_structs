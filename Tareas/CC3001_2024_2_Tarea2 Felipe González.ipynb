{
  "cells": [
    {
      "cell_type": "markdown",
      "metadata": {
        "id": "TuBrFz2U_Hth"
      },
      "source": [
        "# CC3001 Primavera 2024 Tarea 2 Felipe González Poblete\n",
        "\n",
        "## Shellsort\n",
        "\n",
        "### Profesores\n",
        "Sección 1 Patricio Poblete / Nelson Baloian\n"
      ]
    },
    {
      "cell_type": "markdown",
      "metadata": {
        "id": "HiNcDvrX_Htj"
      },
      "source": [
        "El objetivo de esta tarea es que usted implemente el algoritmo de ordenación Shellsort.\n",
        "\n",
        "Para describir cómo funciona Shellsort definamos un arreglo \"$d$-ordenado\" (donde $d$ es un entero mayor o igual a 1) como un arreglo en que cada elemento está ordenado respecto de sus vecinos que están a $d$ casilleros de distancia. Por ejemplo, en el siguiente diagrama se muestran un arreglo antes y después de ser \"3-ordenado\", destacando en distintos colores las subsecuencias que se forman al considerar elementos que están a distancia 3:\n",
        "\n",
        "Antes:\n",
        "\n",
        "![shellsort1](https://github.com/ppoblete/CC3001-2020-2-Tareas/blob/master/shellsort1.png?raw=1)\n",
        "\n",
        "Después:\n",
        "\n",
        "![shellsort2](https://github.com/ppoblete/CC3001-2020-2-Tareas/blob/master/shellsort2.png?raw=1)\n",
        "\n",
        "Noten que el caso particular de un arreglo \"1-ordenado\" (caso $d=1$) sería lo mismo que un arreglo ordenado.\n",
        "\n",
        "El algoritmo Shellsort consiste en hacer una secuencia de pasadas $d$-ordenando el arreglo, cada vez con un valor diferente de $d$, siendo la última siempre con $d=1$.\n",
        "\n",
        "Para hacer una pasada de Shellsort elegimos un valor de $d$ y luego aplicamos una versión modificada de ordenación por inserción. La modificación consiste en que la función ``insertar(a,k)`` compara con el elemento $d$ casilleros más atrás, en lugar de hacerlo con el que está uno más atrás.\n",
        "\n",
        "Para ordenar el arreglo completo, Shellsort hace una secuencia de pasadas, con un conjunto decreciente de valores $d_i,d_{i-1}, \\ldots,d_1$, con $d_1=1$. Esto último asegura que el arreglo quede finalmente ordenado, pero las pasadas anteriores contribuyen a acelerar el proceso, porque hay un teorema (que no les pedimos demostrar) que dice que si un arreglo que ya estaba $i$-ordenado se $j$-ordena, el arreglo resultante sigue estando $i$-ordenado. Esto es, una pasada no echa a perder lo que han hecho las anteriores."
      ]
    },
    {
      "cell_type": "markdown",
      "metadata": {
        "id": "uaJjQHQk_Htk"
      },
      "source": [
        "# Recuerdo de la ordenación por inserción\n",
        "\n",
        "Recuerde que la ordenación por inserción está implementada en el apunte de la manera siguiente:"
      ]
    },
    {
      "cell_type": "code",
      "execution_count": 177,
      "metadata": {
        "id": "pzCxbxct_Htl"
      },
      "outputs": [
        {
          "name": "stdout",
          "output_type": "stream",
          "text": [
            "[46 35 95 21 82 70 72 56 64 50]\n",
            "[21 46 35 95 82 70 72 56 64 50]\n"
          ]
        }
      ],
      "source": [
        "import numpy as np\n",
        "def ordena_insercion(a):\n",
        "    \"\"\"Ordena el arreglo a por inserción\"\"\"\n",
        "    n=len(a)\n",
        "    for k in range(0,n):\n",
        "        insertar(a,k)\n",
        "\n",
        "def insertar(a, k):\n",
        "    \"\"\"\n",
        "    Inserta a[k] entre los elementos anteriores\n",
        "    preservando el orden ascendente (versión 2)\n",
        "    \"\"\"\n",
        "    b=a[k] # b almacena transitoriamente al elemento a[k]\n",
        "    j=k # señala la posición del lugar \"vacío\"\n",
        "    while j>0 and b<a[j-1]:\n",
        "        a[j]=a[j-1]\n",
        "        j-=1\n",
        "    a[j]=b\n",
        "    \n",
        "\n",
        "A = np.array([46,35,95,21,82,70,72,56,64,50])    \n",
        "print(A)\n",
        "(insertar(A,3))\n",
        "print(A)"
      ]
    },
    {
      "cell_type": "markdown",
      "metadata": {
        "id": "-_6T3EYX_Htq"
      },
      "source": [
        "Probemos esto para asegurarnos que funcione bien:"
      ]
    },
    {
      "cell_type": "code",
      "execution_count": 178,
      "metadata": {
        "colab": {
          "base_uri": "https://localhost:8080/"
        },
        "id": "rgNh6gp1_Htq",
        "outputId": "30f05a07-f5ed-4548-9f80-875a867860f1"
      },
      "outputs": [
        {
          "name": "stdout",
          "output_type": "stream",
          "text": [
            "[21 35 46 50 56 64 70 72 82 95]\n",
            "Arreglo 1-ordenado OK.\n"
          ]
        }
      ],
      "source": [
        "def verifica_d_ordenado(a,d):\n",
        "    for i in range(0,len(a)-d):\n",
        "        assert a[i]<=a[i+d]\n",
        "    print(f\"Arreglo {d}-ordenado OK.\")\n",
        "\n",
        "A = np.array([46,35,95,21,82,70,72,56,64,50])\n",
        "ordena_insercion(A)\n",
        "print(A)\n",
        "verifica_d_ordenado(A,1)"
      ]
    },
    {
      "cell_type": "markdown",
      "metadata": {
        "id": "-_xXYgvs_Htw"
      },
      "source": [
        "---\n",
        "# Lo que usted tiene que hacer:"
      ]
    },
    {
      "cell_type": "markdown",
      "metadata": {
        "id": "Dc6Hu4Oh_Htw"
      },
      "source": [
        "## 1) Programar una $d$-ordenación\n",
        "\n",
        "Modifique el código anterior para que $d$-ordene el arreglo, para un valor de $d$ dado. Para esto, escriba el código de la función ``d_insertar`` en el espacio provisto:"
      ]
    },
    {
      "cell_type": "code",
      "execution_count": 179,
      "metadata": {
        "id": "hm9LSyGD_Hty"
      },
      "outputs": [],
      "source": [
        "# def d_ordena_insercion(a,d):\n",
        "#     \"\"\"d-Ordena el arreglo a por inserción\"\"\"\n",
        "#     n=len(a)\n",
        "#     for k in range(0, n):\n",
        "#         d_insertar(a,k,d)\n",
        "\n",
        "\n",
        "    \n",
        "# def d_insertar(a,k,d):\n",
        "#     \"\"\"\n",
        "#     Inserta a[k] entre los elementos anteriores a distancia d\n",
        "#     preservando el orden ascendente (versión 2)\n",
        "#     \"\"\"\n",
        "#     # escriba aquí el código modificado de la función insertar\n",
        "#     # para que haga una d-inserción en lugar de una inserción\n",
        "#     b = a[k] # b almacena transitoriamente al elemento a[k]\n",
        "#     j = k # señala la posición del lugar \"vacío\"\n",
        "#     while j >= d and b < a[j-d]:\n",
        "#         a[j]=a[j-d]\n",
        "#         j -= d\n",
        "    \n",
        "#     a[j] = b\n",
        "        "
      ]
    },
    {
      "cell_type": "code",
      "execution_count": 180,
      "metadata": {},
      "outputs": [],
      "source": [
        "def d_ordena_insercion(a,d):\n",
        "    \"\"\"d-Ordena el arreglo a por inserción\"\"\"\n",
        "    n=len(a)\n",
        "    for k in range(0, n):\n",
        "        d_insertar(a,k,d)\n",
        "\n",
        "\n",
        "    \n",
        "def d_insertar(a,k,d):\n",
        "    \"\"\"\n",
        "    Inserta a[k] entre los elementos anteriores a distancia d\n",
        "    preservando el orden ascendente (versión 2)\n",
        "    \"\"\"\n",
        "    # escriba aquí el código modificado de la función insertar\n",
        "    # para que haga una d-inserción en lugar de una inserción\n",
        "    b = a[k] # b almacena transitoriamente al elemento a[k]\n",
        "    j = k # señala la posición del lugar \"vacío\"\n",
        "    while j >= d and b < a[j-d]:\n",
        "        a[j]=a[j-d]\n",
        "        j -= d\n",
        "    \n",
        "    a[j] = b\n",
        "        "
      ]
    },
    {
      "cell_type": "markdown",
      "metadata": {
        "id": "i4BDEa33_Ht4"
      },
      "source": [
        "Pruebe aquí que su algoritmo $3$-ordena correctamente:"
      ]
    },
    {
      "cell_type": "code",
      "execution_count": 181,
      "metadata": {
        "id": "jdj2YkxJ_Ht5"
      },
      "outputs": [
        {
          "name": "stdout",
          "output_type": "stream",
          "text": [
            "[46 35 95 21 82 70 72 56 64 50]\n",
            "[21 35 64 46 56 70 50 82 95 72]\n",
            "Arreglo 3-ordenado OK.\n"
          ]
        }
      ],
      "source": [
        "A = np.array([46, 35, 95, 21, 82, 70, 72, 56, 64, 50])\n",
        "print(A)\n",
        "d = 3\n",
        "d_ordena_insercion(A, d)\n",
        "print(A)\n",
        "verifica_d_ordenado(A, d)"
      ]
    },
    {
      "cell_type": "markdown",
      "metadata": {
        "id": "AMroZLuc_HuD"
      },
      "source": [
        "## 2) Programar Shellsort\n",
        "\n",
        "Con esto ya estamos listos para programar Shellsort, haciendo una secuencia de pasadas, variando el valor de $d$ y terminando con $d=1$.Hay muchas formas conocidas de generar la secuencia de valores de $d$, con variados niveles de eficiencia. A continuación, programe Shellsort usando una secuencia decreciente de valores de la forma $d_i=2^i+1$ para $i\\ge 1$, y terminando con un $1$. Esto es: $\\ldots, 65, 33, 17, 9, 5, 3, 1$. Se sabe que esta secuencia hace que Shellsort funcione en tiempo $\\Theta(n^{3/2})$. Su programa debe partir con el índice $i$ más grande tal que $d_i<n$."
      ]
    },
    {
      "cell_type": "code",
      "execution_count": 182,
      "metadata": {
        "id": "macdtYd8_HuE"
      },
      "outputs": [],
      "source": [
        "def Shellsort(a):\n",
        "    \"\"\"Ordena a usando Shell Sort, con la secuencia de valores …,65,33,17,9,5,3,1\"\"\"\n",
        "    # Se utiliza comprensión de listas para obtener la secuencia requerida\n",
        "    # \n",
        "    seq_d = [(2 ** i + 1 if i != 0 else 1) for i in range(len(a), -1, -1)]\n",
        "    print(len(seq_d))\n",
        "    for d in seq_d:\n",
        "        d_ordena_insercion(a,d)    \n",
        "    # Escriba aquí el código para invocar d_ordena_insercion reiteradamente\n",
        "    # con la secuencia de valores indicada"
      ]
    },
    {
      "cell_type": "markdown",
      "metadata": {
        "id": "E9jipDWZ_HuG"
      },
      "source": [
        "Pruebe aquí su algoritmo de la manera siguiente:"
      ]
    },
    {
      "cell_type": "code",
      "execution_count": 183,
      "metadata": {
        "id": "5fSJaYs9_HuH"
      },
      "outputs": [
        {
          "name": "stdout",
          "output_type": "stream",
          "text": [
            "[46 35 95 21 82 70 72 56 64 50]\n",
            "11\n",
            "[21 35 46 50 56 64 70 72 82 95]\n",
            "Arreglo 1-ordenado OK.\n"
          ]
        }
      ],
      "source": [
        "A = np.array([46,35,95,21,82,70,72,56,64,50])\n",
        "print(A)\n",
        "Shellsort(A)\n",
        "print(A)\n",
        "verifica_d_ordenado(A,1)"
      ]
    },
    {
      "cell_type": "markdown",
      "metadata": {
        "id": "Stky3Ts2_HuJ"
      },
      "source": [
        "En la siguiente celda agregue una prueba similar de ordenación de un arreglo de tamaño $1000$ generado al azar (sin imprimirlo):"
      ]
    },
    {
      "cell_type": "code",
      "execution_count": 184,
      "metadata": {
        "id": "sS7LH8wn_HuK"
      },
      "outputs": [
        {
          "name": "stdout",
          "output_type": "stream",
          "text": [
            "1001\n",
            "Arreglo 1-ordenado OK.\n"
          ]
        }
      ],
      "source": [
        "R = np.random.rand(1000)\n",
        "Shellsort(R)\n",
        "verifica_d_ordenado(R,1)"
      ]
    },
    {
      "cell_type": "markdown",
      "metadata": {
        "id": "X38mE4fQ_HuR"
      },
      "source": [
        "## 3) Probar con una secuencia diferente de valores $d_i$\n",
        "\n",
        "Finalmente, investigue respecto de otras maneras de generar la secuencia $d_i$, escoja una secuencia en particular, modifique su versión de Shellsort que la use y pruébela."
      ]
    },
    {
      "cell_type": "markdown",
      "metadata": {},
      "source": [
        "Una secuencia que provoca una complejidad de tiempo de $O(n^{\\frac{4}{3}})$ en el shellsort es la secuencia [N° A033622](https://oeis.org/A033622) en [la OEIS](https://oeis.org/wiki/welcome) (Online encyclopedia of Integer Sequences), la cual consiste en la siguiente formula analítica:\n",
        "\n",
        "$$\n",
        " \\begin{equation}\n",
        " S_k =\n",
        "   \\left\\{\\begin{array}{lr}\n",
        "       2^{2(k-1)} + 3\\cdot 2^{k-2} + 1, & k \\geq 1 \\\\\n",
        "       1, & k=0 \n",
        "    \\end{array}\\right.\n",
        " \\end{equation}\n",
        "$$\n",
        "\n",
        "Esta secuencia fue buscada en [el articulo de shellsort de Wikipedia](https://en.wikipedia.org/wiki/Shellsort)"
      ]
    },
    {
      "cell_type": "code",
      "execution_count": 185,
      "metadata": {},
      "outputs": [
        {
          "name": "stdout",
          "output_type": "stream",
          "text": [
            "1099513200641\n",
            "274878693377\n",
            "68719869953\n",
            "17180065793\n",
            "4295065601\n",
            "1073790977\n",
            "268460033\n",
            "67121153\n",
            "16783361\n",
            "4197377\n",
            "1050113\n",
            "262913\n",
            "65921\n",
            "16577\n",
            "4193\n",
            "1073\n",
            "281\n",
            "77\n",
            "23\n",
            "8\n",
            "1\n"
          ]
        }
      ],
      "source": [
        "def oeis_seq(k: int) -> int:\n",
        "    return 2 ** (2*k) + 3 * 2 ** (k - 1) + 1 if k != 0 else 1\n",
        "\n",
        "for k in range(20,-1,-1):\n",
        "    print(oeis_seq(k))"
      ]
    },
    {
      "cell_type": "code",
      "execution_count": 186,
      "metadata": {},
      "outputs": [
        {
          "name": "stdout",
          "output_type": "stream",
          "text": [
            "1001\n",
            "Arreglo 1-ordenado OK.\n"
          ]
        }
      ],
      "source": [
        "def alt_Shellsort(a):\n",
        "    seq_d = [oeis_seq(k) for k in range(len(a), -1, -1)]\n",
        "    print(len(seq_d))\n",
        "    for d in seq_d:\n",
        "        d_ordena_insercion(a,d)\n",
        "\n",
        "R_2 = np.random.rand(1000)\n",
        "alt_Shellsort(R_2)\n",
        "verifica_d_ordenado(R_2,1)"
      ]
    },
    {
      "cell_type": "markdown",
      "metadata": {
        "id": "v_UwExwo_HuW"
      },
      "source": [
        "## ¿Qué hay que entregar?\n",
        "\n",
        "Usted debe entregar este mismo archivo, modificado de acuerdo a lo que se pide. Haga todos los cambios necesarios para explicar y documentar adecuadamente su código. Cite todas las fuentes de información utilizadas. **No olvide poner su nombre en el encabezamiento**."
      ]
    }
  ],
  "metadata": {
    "colab": {
      "provenance": []
    },
    "kernelspec": {
      "display_name": "Python 3",
      "language": "python",
      "name": "python3"
    },
    "language_info": {
      "codemirror_mode": {
        "name": "ipython",
        "version": 3
      },
      "file_extension": ".py",
      "mimetype": "text/x-python",
      "name": "python",
      "nbconvert_exporter": "python",
      "pygments_lexer": "ipython3",
      "version": "3.12.2"
    }
  },
  "nbformat": 4,
  "nbformat_minor": 0
}

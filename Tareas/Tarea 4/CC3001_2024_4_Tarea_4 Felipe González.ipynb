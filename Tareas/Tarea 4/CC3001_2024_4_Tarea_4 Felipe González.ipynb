{
  "cells": [
    {
      "cell_type": "markdown",
      "metadata": {
        "id": "vqpyykLhbGmC"
      },
      "source": [
        "# CC3001 Primavera 2024 Tarea 4 [Escriba su nombre aquí]\n",
        "# Cálculo de derivadas de fórmulas representadas mediante árboles\n",
        "## Profesores\n",
        "Sección 1 Patricio Poblete / Nelson Baloian"
      ]
    },
    {
      "cell_type": "markdown",
      "metadata": {
        "id": "0m-PHqkybGmD"
      },
      "source": [
        "El objetivo de esta tarea es aprender a procesar la información de árboles que representan fórmulas. Hay muchas cosas que uno puede hacer con estos árboles, y en esta tarea nos enfocaremos en particular en calcular la derivada de una fórmula respecto de una variable dada.\n",
        "\n",
        "Específicamente, el problema es: dado un árbol que representa una fórmula, construir y retornar otro árbol que representa la derivada de la primera fórmula respecto de una variable dada.\n",
        "\n",
        "La fórmula se entrega en notación de infijo (normal). En esta fórmula,\n",
        "los operadores de menor prioridad son la suma (``+``) y la resta (``-``), de igual prioridad entre sí, luego vienen la multiplicación (``*``) y la división (``/``), también de igual prioridad entre sí, y finalmente el operador de mayor prioridad es la elevación a potencia (``^``). También se puede usar paréntesis. Para simplificar no usaremos el operador \"menos unario\". **Nota importante**: Para no complicar excesivamente las cosas, supondremos que en la elevación a potencia el exponente no contiene la variable respecto de la cual se está derivando.\n",
        "\n",
        "A continuación usted encontrará las clases ``Nodoi``, ``Nodoe`` y ``Arbol`` que implementan árboles que representan fórmulas. La clase ``Arbol`` viene con un constructor que recibe un string como parámetro, el cual contiene una fórmula, y este constructor se encarga de transformar la fórmula de string a árbol, de modo que usted no necesita preocuparse de eso. Para simplificar, la fórmula solo podrá contener variables de una sola letra, números de un solo dígito, y sin espacios.\n",
        "\n",
        "Usted tiene que implementar para la clase ``Arbol`` y para los nodos una función ``derivada`` que al ser invocada indicando el nombre de una variable, retorne un árbol que represente la derivada de la fórmula respectiva.\n",
        "\n",
        "En este enunciado vienen funciones ``derivada`` triviales, que simplemente retornan la misma fórmula, sin derivarla. Usted debe reemplazarlas por la implementación correcta\n"
      ]
    },
    {
      "cell_type": "code",
      "execution_count": 1,
      "metadata": {
        "id": "wxdoFaDHbGmE"
      },
      "outputs": [],
      "source": [
        "import aed_utilities as aed\n",
        "\n",
        "class Nodoi:\n",
        "    def __init__(self, izq, info, der):\n",
        "        self.izq=izq\n",
        "        self.info=info\n",
        "        self.der=der\n",
        "    def postorden(self):\n",
        "        self.izq.postorden()\n",
        "        self.der.postorden()\n",
        "        print(self.info, end=\" \")\n",
        "    def derivada(self,x):\n",
        "        \n",
        "        return self\n",
        "\n",
        "class Nodoe:\n",
        "    def __init__(self, info):\n",
        "        self.info=info\n",
        "    def postorden(self):\n",
        "        print(self.info, end=\" \")\n",
        "    def derivada(self,x):\n",
        "        # Esta función la tiene que escribir usted\n",
        "        # Por mientras, retorna la misma fórmula sin derivarla\n",
        "        return self\n",
        "\n",
        "class Arbol:\n",
        "    def __init__(self,formula):\n",
        "        if type(formula) != str: # se supone que viene el árbol ya construído\n",
        "          self.raiz=formula\n",
        "          return\n",
        "\n",
        "        # la fórmula viene en forma de string\n",
        "        global k\n",
        "        global s\n",
        "        s=formula+\";\" # agregamos una marca de fin de la entrada\n",
        "        k=0 # indica próximo caracter por procesar\n",
        "        # definimos funciones para analizar la fórmula\n",
        "        def expresion():\n",
        "            \"\"\" retorna puntero a la raíz \n",
        "            de un árbol que representa a la fórmula s\"\"\"\n",
        "            global k\n",
        "            global s\n",
        "            a=factor()\n",
        "            while s[k]==\"+\" or s[k]==\"-\":\n",
        "                op=s[k]\n",
        "                k+=1\n",
        "                b=factor()\n",
        "                a=Nodoi(a,op,b)\n",
        "            return a\n",
        "        \n",
        "        def factor():\n",
        "            global k\n",
        "            global s\n",
        "            a=termino()\n",
        "            while s[k]==\"*\" or s[k]==\"/\":\n",
        "                op=s[k]\n",
        "                k+=1\n",
        "                b=termino()\n",
        "                a=Nodoi(a,op,b)\n",
        "            return a\n",
        "        \n",
        "        def termino():\n",
        "            global k\n",
        "            global s\n",
        "            a=primario()\n",
        "            if s[k]==\"^\":\n",
        "                op=s[k]\n",
        "                k+=1\n",
        "                b=termino()\n",
        "                a=Nodoi(a,op,b)\n",
        "            return a\n",
        "        def primario(): # posible constante, variable o formula parentizada\n",
        "            global k\n",
        "            global s\n",
        "            if s[k].isalpha() or s[k].isdigit():\n",
        "                a=Nodoe(s[k])\n",
        "                k+=1\n",
        "                return a\n",
        "            if s[k]==\"(\": # fórmula parentizada\n",
        "                k+=1\n",
        "                a=expresion()\n",
        "                if s[k]!=\")\":\n",
        "                    print(\"Error: Falta cierra paréntesis: \"+formula[k:])\n",
        "                    assert False\n",
        "                k+=1\n",
        "                return a\n",
        "            print(\"Error: Falta variable, número o abre paréntesis: \"+formula[k:])\n",
        "            assert False\n",
        "\n",
        "        a=expresion()\n",
        "        if s[k]!=\";\":\n",
        "            print(\"Error: Basura al final de la fórmula: \"+formula[k:])\n",
        "            assert False\n",
        "        self.raiz=a\n",
        "\n",
        "    def derivada(self,x):\n",
        "        return Arbol(self.raiz.derivada(x))\n",
        "\n",
        "    def dibujar(self):\n",
        "      btd = aed.BinaryTreeDrawer(fieldData=\"info\", fieldLeft=\"izq\", fieldRight=\"der\",classNone=Nodoe )\n",
        "      btd.draw_tree(self, \"raiz\")\n"
      ]
    },
    {
      "cell_type": "markdown",
      "metadata": {
        "id": "_OJos4TDbGmI"
      },
      "source": [
        "A continuación probamos esta funcionalidad con varias fórmulas de ejemplo. Para ver si el árbol fue construido correctamente, lo dibujaremos, y también dibujaremos el árbol resultante después del cálculo de la derivada."
      ]
    },
    {
      "cell_type": "code",
      "execution_count": 6,
      "metadata": {
        "id": "L_Dsr_FpbGmJ"
      },
      "outputs": [],
      "source": [
        "def probar_derivada(formula,x):\n",
        "    f=Arbol(formula)\n",
        "    print(\"Fórmula original:\")\n",
        "    f.dibujar()\n",
        "    g=f.derivada(x)\n",
        "    print(f\"Derivada respecto de {x}:\")\n",
        "    g.dibujar()"
      ]
    },
    {
      "cell_type": "code",
      "execution_count": 3,
      "metadata": {
        "colab": {
          "base_uri": "https://localhost:8080/",
          "height": 290
        },
        "id": "RMZZmLMng-C4",
        "outputId": "d85395ec-8715-4c64-888a-c22a2b265ce4"
      },
      "outputs": [
        {
          "name": "stdout",
          "output_type": "stream",
          "text": [
            "Fórmula original:\n"
          ]
        },
        {
          "data": {
            "image/svg+xml": [
              "<svg xmlns=\"http://www.w3.org/2000/svg\" xmlns:xlink=\"http://www.w3.org/1999/xlink\" width=\"111pt\" height=\"87pt\" viewBox=\"0.00 0.00 111.20 87.20\">\n",
              "<g id=\"graph0\" class=\"graph\" transform=\"scale(1 1) rotate(0) translate(4 83.2)\">\n",
              "<title>Arbol</title>\n",
              "<polygon fill=\"white\" stroke=\"transparent\" points=\"-4,4 -4,-83.2 107.2,-83.2 107.2,4 -4,4\"/>\n",
              "<!-- node0 -->\n",
              "<g id=\"node1\" class=\"node\">\n",
              "<title>node0</title>\n",
              "<polygon fill=\"none\" stroke=\"black\" points=\"36,-36 0,-36 0,0 36,0 36,-36\"/>\n",
              "<text text-anchor=\"middle\" x=\"18\" y=\"-14.3\" font-family=\"Times New Roman,serif\" font-size=\"14.00\">x</text>\n",
              "</g>\n",
              "<!-- node2 -->\n",
              "<g id=\"node2\" class=\"node\">\n",
              "<title>node2</title>\n",
              "<ellipse fill=\"none\" stroke=\"black\" cx=\"51.6\" cy=\"-61.2\" rx=\"18\" ry=\"18\"/>\n",
              "<text text-anchor=\"middle\" x=\"51.6\" y=\"-57.5\" font-family=\"Times New Roman,serif\" font-size=\"14.00\">+</text>\n",
              "</g>\n",
              "<!-- node2&#45;&#45;node0 -->\n",
              "<g id=\"edge1\" class=\"edge\">\n",
              "<title>node2--node0</title>\n",
              "<path fill=\"none\" stroke=\"black\" d=\"M40.22,-46.57C37.64,-43.25 34.85,-39.67 32.16,-36.21\"/>\n",
              "</g>\n",
              "<!-- node1 -->\n",
              "<g id=\"node3\" class=\"node\">\n",
              "<title>node1</title>\n",
              "<polygon fill=\"none\" stroke=\"black\" points=\"103.2,-36 67.2,-36 67.2,0 103.2,0 103.2,-36\"/>\n",
              "<text text-anchor=\"middle\" x=\"85.2\" y=\"-14.3\" font-family=\"Times New Roman,serif\" font-size=\"14.00\">1</text>\n",
              "</g>\n",
              "<!-- node2&#45;&#45;node1 -->\n",
              "<g id=\"edge2\" class=\"edge\">\n",
              "<title>node2--node1</title>\n",
              "<path fill=\"none\" stroke=\"black\" d=\"M62.98,-46.57C65.56,-43.25 68.35,-39.67 71.04,-36.21\"/>\n",
              "</g>\n",
              "</g>\n",
              "</svg>"
            ],
            "text/plain": [
              "<IPython.core.display.SVG object>"
            ]
          },
          "metadata": {},
          "output_type": "display_data"
        },
        {
          "name": "stdout",
          "output_type": "stream",
          "text": [
            "Derivada respecto de x:\n"
          ]
        },
        {
          "data": {
            "image/svg+xml": [
              "<svg xmlns=\"http://www.w3.org/2000/svg\" xmlns:xlink=\"http://www.w3.org/1999/xlink\" width=\"111pt\" height=\"87pt\" viewBox=\"0.00 0.00 111.20 87.20\">\n",
              "<g id=\"graph0\" class=\"graph\" transform=\"scale(1 1) rotate(0) translate(4 83.2)\">\n",
              "<title>Arbol</title>\n",
              "<polygon fill=\"white\" stroke=\"transparent\" points=\"-4,4 -4,-83.2 107.2,-83.2 107.2,4 -4,4\"/>\n",
              "<!-- node0 -->\n",
              "<g id=\"node1\" class=\"node\">\n",
              "<title>node0</title>\n",
              "<polygon fill=\"none\" stroke=\"black\" points=\"36,-36 0,-36 0,0 36,0 36,-36\"/>\n",
              "<text text-anchor=\"middle\" x=\"18\" y=\"-14.3\" font-family=\"Times New Roman,serif\" font-size=\"14.00\">x</text>\n",
              "</g>\n",
              "<!-- node2 -->\n",
              "<g id=\"node2\" class=\"node\">\n",
              "<title>node2</title>\n",
              "<ellipse fill=\"none\" stroke=\"black\" cx=\"51.6\" cy=\"-61.2\" rx=\"18\" ry=\"18\"/>\n",
              "<text text-anchor=\"middle\" x=\"51.6\" y=\"-57.5\" font-family=\"Times New Roman,serif\" font-size=\"14.00\">+</text>\n",
              "</g>\n",
              "<!-- node2&#45;&#45;node0 -->\n",
              "<g id=\"edge1\" class=\"edge\">\n",
              "<title>node2--node0</title>\n",
              "<path fill=\"none\" stroke=\"black\" d=\"M40.22,-46.57C37.64,-43.25 34.85,-39.67 32.16,-36.21\"/>\n",
              "</g>\n",
              "<!-- node1 -->\n",
              "<g id=\"node3\" class=\"node\">\n",
              "<title>node1</title>\n",
              "<polygon fill=\"none\" stroke=\"black\" points=\"103.2,-36 67.2,-36 67.2,0 103.2,0 103.2,-36\"/>\n",
              "<text text-anchor=\"middle\" x=\"85.2\" y=\"-14.3\" font-family=\"Times New Roman,serif\" font-size=\"14.00\">1</text>\n",
              "</g>\n",
              "<!-- node2&#45;&#45;node1 -->\n",
              "<g id=\"edge2\" class=\"edge\">\n",
              "<title>node2--node1</title>\n",
              "<path fill=\"none\" stroke=\"black\" d=\"M62.98,-46.57C65.56,-43.25 68.35,-39.67 71.04,-36.21\"/>\n",
              "</g>\n",
              "</g>\n",
              "</svg>"
            ],
            "text/plain": [
              "<IPython.core.display.SVG object>"
            ]
          },
          "metadata": {},
          "output_type": "display_data"
        }
      ],
      "source": [
        "probar_derivada(\"x+1\",\"x\")"
      ]
    },
    {
      "cell_type": "code",
      "execution_count": 4,
      "metadata": {
        "colab": {
          "base_uri": "https://localhost:8080/",
          "height": 522
        },
        "id": "vVHvFUc3bGmQ",
        "outputId": "6e76ddb0-f4d0-45af-a68a-9b5f78e96d06",
        "scrolled": true
      },
      "outputs": [
        {
          "name": "stdout",
          "output_type": "stream",
          "text": [
            "Fórmula original:\n"
          ]
        },
        {
          "data": {
            "image/svg+xml": [
              "<svg xmlns=\"http://www.w3.org/2000/svg\" xmlns:xlink=\"http://www.w3.org/1999/xlink\" width=\"246pt\" height=\"174pt\" viewBox=\"0.00 0.00 245.60 173.60\">\n",
              "<g id=\"graph0\" class=\"graph\" transform=\"scale(1 1) rotate(0) translate(4 169.6)\">\n",
              "<title>Arbol</title>\n",
              "<polygon fill=\"white\" stroke=\"transparent\" points=\"-4,4 -4,-169.6 241.6,-169.6 241.6,4 -4,4\"/>\n",
              "<!-- node0 -->\n",
              "<g id=\"node1\" class=\"node\">\n",
              "<title>node0</title>\n",
              "<polygon fill=\"none\" stroke=\"black\" points=\"36,-36 0,-36 0,0 36,0 36,-36\"/>\n",
              "<text text-anchor=\"middle\" x=\"18\" y=\"-14.3\" font-family=\"Times New Roman,serif\" font-size=\"14.00\">2</text>\n",
              "</g>\n",
              "<!-- node2 -->\n",
              "<g id=\"node2\" class=\"node\">\n",
              "<title>node2</title>\n",
              "<ellipse fill=\"none\" stroke=\"black\" cx=\"51.6\" cy=\"-61.2\" rx=\"18\" ry=\"18\"/>\n",
              "<text text-anchor=\"middle\" x=\"51.6\" y=\"-57.5\" font-family=\"Times New Roman,serif\" font-size=\"14.00\">*</text>\n",
              "</g>\n",
              "<!-- node2&#45;&#45;node0 -->\n",
              "<g id=\"edge3\" class=\"edge\">\n",
              "<title>node2--node0</title>\n",
              "<path fill=\"none\" stroke=\"black\" d=\"M40.22,-46.57C37.64,-43.25 34.85,-39.67 32.16,-36.21\"/>\n",
              "</g>\n",
              "<!-- node1 -->\n",
              "<g id=\"node3\" class=\"node\">\n",
              "<title>node1</title>\n",
              "<polygon fill=\"none\" stroke=\"black\" points=\"103.2,-36 67.2,-36 67.2,0 103.2,0 103.2,-36\"/>\n",
              "<text text-anchor=\"middle\" x=\"85.2\" y=\"-14.3\" font-family=\"Times New Roman,serif\" font-size=\"14.00\">x</text>\n",
              "</g>\n",
              "<!-- node2&#45;&#45;node1 -->\n",
              "<g id=\"edge4\" class=\"edge\">\n",
              "<title>node2--node1</title>\n",
              "<path fill=\"none\" stroke=\"black\" d=\"M62.98,-46.57C65.56,-43.25 68.35,-39.67 71.04,-36.21\"/>\n",
              "</g>\n",
              "<!-- node4 -->\n",
              "<g id=\"node4\" class=\"node\">\n",
              "<title>node4</title>\n",
              "<ellipse fill=\"none\" stroke=\"black\" cx=\"118.8\" cy=\"-104.4\" rx=\"18\" ry=\"18\"/>\n",
              "<text text-anchor=\"middle\" x=\"118.8\" y=\"-100.7\" font-family=\"Times New Roman,serif\" font-size=\"14.00\">^</text>\n",
              "</g>\n",
              "<!-- node4&#45;&#45;node2 -->\n",
              "<g id=\"edge2\" class=\"edge\">\n",
              "<title>node4--node2</title>\n",
              "<path fill=\"none\" stroke=\"black\" d=\"M103.55,-94.6C92.55,-87.53 77.77,-78.02 66.79,-70.96\"/>\n",
              "</g>\n",
              "<!-- node3 -->\n",
              "<g id=\"node5\" class=\"node\">\n",
              "<title>node3</title>\n",
              "<polygon fill=\"none\" stroke=\"black\" points=\"170.4,-79.2 134.4,-79.2 134.4,-43.2 170.4,-43.2 170.4,-79.2\"/>\n",
              "<text text-anchor=\"middle\" x=\"152.4\" y=\"-57.5\" font-family=\"Times New Roman,serif\" font-size=\"14.00\">2</text>\n",
              "</g>\n",
              "<!-- node4&#45;&#45;node3 -->\n",
              "<g id=\"edge5\" class=\"edge\">\n",
              "<title>node4--node3</title>\n",
              "<path fill=\"none\" stroke=\"black\" d=\"M130.18,-89.77C132.76,-86.45 135.55,-82.87 138.24,-79.41\"/>\n",
              "</g>\n",
              "<!-- node6 -->\n",
              "<g id=\"node6\" class=\"node\">\n",
              "<title>node6</title>\n",
              "<ellipse fill=\"none\" stroke=\"black\" cx=\"186\" cy=\"-147.6\" rx=\"18\" ry=\"18\"/>\n",
              "<text text-anchor=\"middle\" x=\"186\" y=\"-143.9\" font-family=\"Times New Roman,serif\" font-size=\"14.00\">+</text>\n",
              "</g>\n",
              "<!-- node6&#45;&#45;node4 -->\n",
              "<g id=\"edge1\" class=\"edge\">\n",
              "<title>node6--node4</title>\n",
              "<path fill=\"none\" stroke=\"black\" d=\"M170.75,-137.8C159.75,-130.73 144.97,-121.22 133.99,-114.16\"/>\n",
              "</g>\n",
              "<!-- node5 -->\n",
              "<g id=\"node7\" class=\"node\">\n",
              "<title>node5</title>\n",
              "<polygon fill=\"none\" stroke=\"black\" points=\"237.6,-122.4 201.6,-122.4 201.6,-86.4 237.6,-86.4 237.6,-122.4\"/>\n",
              "<text text-anchor=\"middle\" x=\"219.6\" y=\"-100.7\" font-family=\"Times New Roman,serif\" font-size=\"14.00\">a</text>\n",
              "</g>\n",
              "<!-- node6&#45;&#45;node5 -->\n",
              "<g id=\"edge6\" class=\"edge\">\n",
              "<title>node6--node5</title>\n",
              "<path fill=\"none\" stroke=\"black\" d=\"M197.38,-132.97C199.96,-129.65 202.75,-126.07 205.44,-122.61\"/>\n",
              "</g>\n",
              "</g>\n",
              "</svg>"
            ],
            "text/plain": [
              "<IPython.core.display.SVG object>"
            ]
          },
          "metadata": {},
          "output_type": "display_data"
        },
        {
          "name": "stdout",
          "output_type": "stream",
          "text": [
            "Derivada respecto de x:\n"
          ]
        },
        {
          "data": {
            "image/svg+xml": [
              "<svg xmlns=\"http://www.w3.org/2000/svg\" xmlns:xlink=\"http://www.w3.org/1999/xlink\" width=\"246pt\" height=\"174pt\" viewBox=\"0.00 0.00 245.60 173.60\">\n",
              "<g id=\"graph0\" class=\"graph\" transform=\"scale(1 1) rotate(0) translate(4 169.6)\">\n",
              "<title>Arbol</title>\n",
              "<polygon fill=\"white\" stroke=\"transparent\" points=\"-4,4 -4,-169.6 241.6,-169.6 241.6,4 -4,4\"/>\n",
              "<!-- node0 -->\n",
              "<g id=\"node1\" class=\"node\">\n",
              "<title>node0</title>\n",
              "<polygon fill=\"none\" stroke=\"black\" points=\"36,-36 0,-36 0,0 36,0 36,-36\"/>\n",
              "<text text-anchor=\"middle\" x=\"18\" y=\"-14.3\" font-family=\"Times New Roman,serif\" font-size=\"14.00\">2</text>\n",
              "</g>\n",
              "<!-- node2 -->\n",
              "<g id=\"node2\" class=\"node\">\n",
              "<title>node2</title>\n",
              "<ellipse fill=\"none\" stroke=\"black\" cx=\"51.6\" cy=\"-61.2\" rx=\"18\" ry=\"18\"/>\n",
              "<text text-anchor=\"middle\" x=\"51.6\" y=\"-57.5\" font-family=\"Times New Roman,serif\" font-size=\"14.00\">*</text>\n",
              "</g>\n",
              "<!-- node2&#45;&#45;node0 -->\n",
              "<g id=\"edge3\" class=\"edge\">\n",
              "<title>node2--node0</title>\n",
              "<path fill=\"none\" stroke=\"black\" d=\"M40.22,-46.57C37.64,-43.25 34.85,-39.67 32.16,-36.21\"/>\n",
              "</g>\n",
              "<!-- node1 -->\n",
              "<g id=\"node3\" class=\"node\">\n",
              "<title>node1</title>\n",
              "<polygon fill=\"none\" stroke=\"black\" points=\"103.2,-36 67.2,-36 67.2,0 103.2,0 103.2,-36\"/>\n",
              "<text text-anchor=\"middle\" x=\"85.2\" y=\"-14.3\" font-family=\"Times New Roman,serif\" font-size=\"14.00\">x</text>\n",
              "</g>\n",
              "<!-- node2&#45;&#45;node1 -->\n",
              "<g id=\"edge4\" class=\"edge\">\n",
              "<title>node2--node1</title>\n",
              "<path fill=\"none\" stroke=\"black\" d=\"M62.98,-46.57C65.56,-43.25 68.35,-39.67 71.04,-36.21\"/>\n",
              "</g>\n",
              "<!-- node4 -->\n",
              "<g id=\"node4\" class=\"node\">\n",
              "<title>node4</title>\n",
              "<ellipse fill=\"none\" stroke=\"black\" cx=\"118.8\" cy=\"-104.4\" rx=\"18\" ry=\"18\"/>\n",
              "<text text-anchor=\"middle\" x=\"118.8\" y=\"-100.7\" font-family=\"Times New Roman,serif\" font-size=\"14.00\">^</text>\n",
              "</g>\n",
              "<!-- node4&#45;&#45;node2 -->\n",
              "<g id=\"edge2\" class=\"edge\">\n",
              "<title>node4--node2</title>\n",
              "<path fill=\"none\" stroke=\"black\" d=\"M103.55,-94.6C92.55,-87.53 77.77,-78.02 66.79,-70.96\"/>\n",
              "</g>\n",
              "<!-- node3 -->\n",
              "<g id=\"node5\" class=\"node\">\n",
              "<title>node3</title>\n",
              "<polygon fill=\"none\" stroke=\"black\" points=\"170.4,-79.2 134.4,-79.2 134.4,-43.2 170.4,-43.2 170.4,-79.2\"/>\n",
              "<text text-anchor=\"middle\" x=\"152.4\" y=\"-57.5\" font-family=\"Times New Roman,serif\" font-size=\"14.00\">2</text>\n",
              "</g>\n",
              "<!-- node4&#45;&#45;node3 -->\n",
              "<g id=\"edge5\" class=\"edge\">\n",
              "<title>node4--node3</title>\n",
              "<path fill=\"none\" stroke=\"black\" d=\"M130.18,-89.77C132.76,-86.45 135.55,-82.87 138.24,-79.41\"/>\n",
              "</g>\n",
              "<!-- node6 -->\n",
              "<g id=\"node6\" class=\"node\">\n",
              "<title>node6</title>\n",
              "<ellipse fill=\"none\" stroke=\"black\" cx=\"186\" cy=\"-147.6\" rx=\"18\" ry=\"18\"/>\n",
              "<text text-anchor=\"middle\" x=\"186\" y=\"-143.9\" font-family=\"Times New Roman,serif\" font-size=\"14.00\">+</text>\n",
              "</g>\n",
              "<!-- node6&#45;&#45;node4 -->\n",
              "<g id=\"edge1\" class=\"edge\">\n",
              "<title>node6--node4</title>\n",
              "<path fill=\"none\" stroke=\"black\" d=\"M170.75,-137.8C159.75,-130.73 144.97,-121.22 133.99,-114.16\"/>\n",
              "</g>\n",
              "<!-- node5 -->\n",
              "<g id=\"node7\" class=\"node\">\n",
              "<title>node5</title>\n",
              "<polygon fill=\"none\" stroke=\"black\" points=\"237.6,-122.4 201.6,-122.4 201.6,-86.4 237.6,-86.4 237.6,-122.4\"/>\n",
              "<text text-anchor=\"middle\" x=\"219.6\" y=\"-100.7\" font-family=\"Times New Roman,serif\" font-size=\"14.00\">a</text>\n",
              "</g>\n",
              "<!-- node6&#45;&#45;node5 -->\n",
              "<g id=\"edge6\" class=\"edge\">\n",
              "<title>node6--node5</title>\n",
              "<path fill=\"none\" stroke=\"black\" d=\"M197.38,-132.97C199.96,-129.65 202.75,-126.07 205.44,-122.61\"/>\n",
              "</g>\n",
              "</g>\n",
              "</svg>"
            ],
            "text/plain": [
              "<IPython.core.display.SVG object>"
            ]
          },
          "metadata": {},
          "output_type": "display_data"
        }
      ],
      "source": [
        "probar_derivada(\"(2*x)^2+a\",\"x\")"
      ]
    },
    {
      "cell_type": "code",
      "execution_count": 5,
      "metadata": {
        "colab": {
          "base_uri": "https://localhost:8080/",
          "height": 406
        },
        "id": "KxcOPLWxbGmX",
        "outputId": "245e7d23-ba38-4e76-a28b-93155c0c4513"
      },
      "outputs": [
        {
          "name": "stdout",
          "output_type": "stream",
          "text": [
            "Fórmula original:\n"
          ]
        },
        {
          "data": {
            "image/svg+xml": [
              "<svg xmlns=\"http://www.w3.org/2000/svg\" xmlns:xlink=\"http://www.w3.org/1999/xlink\" width=\"246pt\" height=\"130pt\" viewBox=\"0.00 0.00 245.60 130.40\">\n",
              "<g id=\"graph0\" class=\"graph\" transform=\"scale(1 1) rotate(0) translate(4 126.4)\">\n",
              "<title>Arbol</title>\n",
              "<polygon fill=\"white\" stroke=\"transparent\" points=\"-4,4 -4,-126.4 241.6,-126.4 241.6,4 -4,4\"/>\n",
              "<!-- node0 -->\n",
              "<g id=\"node1\" class=\"node\">\n",
              "<title>node0</title>\n",
              "<polygon fill=\"none\" stroke=\"black\" points=\"36,-36 0,-36 0,0 36,0 36,-36\"/>\n",
              "<text text-anchor=\"middle\" x=\"18\" y=\"-14.3\" font-family=\"Times New Roman,serif\" font-size=\"14.00\">1</text>\n",
              "</g>\n",
              "<!-- node2 -->\n",
              "<g id=\"node2\" class=\"node\">\n",
              "<title>node2</title>\n",
              "<ellipse fill=\"none\" stroke=\"black\" cx=\"51.6\" cy=\"-61.2\" rx=\"18\" ry=\"18\"/>\n",
              "<text text-anchor=\"middle\" x=\"51.6\" y=\"-57.5\" font-family=\"Times New Roman,serif\" font-size=\"14.00\">+</text>\n",
              "</g>\n",
              "<!-- node2&#45;&#45;node0 -->\n",
              "<g id=\"edge2\" class=\"edge\">\n",
              "<title>node2--node0</title>\n",
              "<path fill=\"none\" stroke=\"black\" d=\"M40.22,-46.57C37.64,-43.25 34.85,-39.67 32.16,-36.21\"/>\n",
              "</g>\n",
              "<!-- node1 -->\n",
              "<g id=\"node3\" class=\"node\">\n",
              "<title>node1</title>\n",
              "<polygon fill=\"none\" stroke=\"black\" points=\"103.2,-36 67.2,-36 67.2,0 103.2,0 103.2,-36\"/>\n",
              "<text text-anchor=\"middle\" x=\"85.2\" y=\"-14.3\" font-family=\"Times New Roman,serif\" font-size=\"14.00\">y</text>\n",
              "</g>\n",
              "<!-- node2&#45;&#45;node1 -->\n",
              "<g id=\"edge3\" class=\"edge\">\n",
              "<title>node2--node1</title>\n",
              "<path fill=\"none\" stroke=\"black\" d=\"M62.98,-46.57C65.56,-43.25 68.35,-39.67 71.04,-36.21\"/>\n",
              "</g>\n",
              "<!-- node6 -->\n",
              "<g id=\"node4\" class=\"node\">\n",
              "<title>node6</title>\n",
              "<ellipse fill=\"none\" stroke=\"black\" cx=\"118.8\" cy=\"-104.4\" rx=\"18\" ry=\"18\"/>\n",
              "<text text-anchor=\"middle\" x=\"118.8\" y=\"-100.7\" font-family=\"Times New Roman,serif\" font-size=\"14.00\">/</text>\n",
              "</g>\n",
              "<!-- node6&#45;&#45;node2 -->\n",
              "<g id=\"edge1\" class=\"edge\">\n",
              "<title>node6--node2</title>\n",
              "<path fill=\"none\" stroke=\"black\" d=\"M103.55,-94.6C92.55,-87.53 77.77,-78.02 66.79,-70.96\"/>\n",
              "</g>\n",
              "<!-- node5 -->\n",
              "<g id=\"node6\" class=\"node\">\n",
              "<title>node5</title>\n",
              "<ellipse fill=\"none\" stroke=\"black\" cx=\"186\" cy=\"-61.2\" rx=\"18\" ry=\"18\"/>\n",
              "<text text-anchor=\"middle\" x=\"186\" y=\"-57.5\" font-family=\"Times New Roman,serif\" font-size=\"14.00\">-</text>\n",
              "</g>\n",
              "<!-- node6&#45;&#45;node5 -->\n",
              "<g id=\"edge4\" class=\"edge\">\n",
              "<title>node6--node5</title>\n",
              "<path fill=\"none\" stroke=\"black\" d=\"M134.05,-94.6C145.05,-87.53 159.83,-78.02 170.81,-70.96\"/>\n",
              "</g>\n",
              "<!-- node3 -->\n",
              "<g id=\"node5\" class=\"node\">\n",
              "<title>node3</title>\n",
              "<polygon fill=\"none\" stroke=\"black\" points=\"170.4,-36 134.4,-36 134.4,0 170.4,0 170.4,-36\"/>\n",
              "<text text-anchor=\"middle\" x=\"152.4\" y=\"-14.3\" font-family=\"Times New Roman,serif\" font-size=\"14.00\">1</text>\n",
              "</g>\n",
              "<!-- node5&#45;&#45;node3 -->\n",
              "<g id=\"edge5\" class=\"edge\">\n",
              "<title>node5--node3</title>\n",
              "<path fill=\"none\" stroke=\"black\" d=\"M174.62,-46.57C172.04,-43.25 169.25,-39.67 166.56,-36.21\"/>\n",
              "</g>\n",
              "<!-- node4 -->\n",
              "<g id=\"node7\" class=\"node\">\n",
              "<title>node4</title>\n",
              "<polygon fill=\"none\" stroke=\"black\" points=\"237.6,-36 201.6,-36 201.6,0 237.6,0 237.6,-36\"/>\n",
              "<text text-anchor=\"middle\" x=\"219.6\" y=\"-14.3\" font-family=\"Times New Roman,serif\" font-size=\"14.00\">y</text>\n",
              "</g>\n",
              "<!-- node5&#45;&#45;node4 -->\n",
              "<g id=\"edge6\" class=\"edge\">\n",
              "<title>node5--node4</title>\n",
              "<path fill=\"none\" stroke=\"black\" d=\"M197.38,-46.57C199.96,-43.25 202.75,-39.67 205.44,-36.21\"/>\n",
              "</g>\n",
              "</g>\n",
              "</svg>"
            ],
            "text/plain": [
              "<IPython.core.display.SVG object>"
            ]
          },
          "metadata": {},
          "output_type": "display_data"
        },
        {
          "name": "stdout",
          "output_type": "stream",
          "text": [
            "Derivada respecto de y:\n"
          ]
        },
        {
          "data": {
            "image/svg+xml": [
              "<svg xmlns=\"http://www.w3.org/2000/svg\" xmlns:xlink=\"http://www.w3.org/1999/xlink\" width=\"246pt\" height=\"130pt\" viewBox=\"0.00 0.00 245.60 130.40\">\n",
              "<g id=\"graph0\" class=\"graph\" transform=\"scale(1 1) rotate(0) translate(4 126.4)\">\n",
              "<title>Arbol</title>\n",
              "<polygon fill=\"white\" stroke=\"transparent\" points=\"-4,4 -4,-126.4 241.6,-126.4 241.6,4 -4,4\"/>\n",
              "<!-- node0 -->\n",
              "<g id=\"node1\" class=\"node\">\n",
              "<title>node0</title>\n",
              "<polygon fill=\"none\" stroke=\"black\" points=\"36,-36 0,-36 0,0 36,0 36,-36\"/>\n",
              "<text text-anchor=\"middle\" x=\"18\" y=\"-14.3\" font-family=\"Times New Roman,serif\" font-size=\"14.00\">1</text>\n",
              "</g>\n",
              "<!-- node2 -->\n",
              "<g id=\"node2\" class=\"node\">\n",
              "<title>node2</title>\n",
              "<ellipse fill=\"none\" stroke=\"black\" cx=\"51.6\" cy=\"-61.2\" rx=\"18\" ry=\"18\"/>\n",
              "<text text-anchor=\"middle\" x=\"51.6\" y=\"-57.5\" font-family=\"Times New Roman,serif\" font-size=\"14.00\">+</text>\n",
              "</g>\n",
              "<!-- node2&#45;&#45;node0 -->\n",
              "<g id=\"edge2\" class=\"edge\">\n",
              "<title>node2--node0</title>\n",
              "<path fill=\"none\" stroke=\"black\" d=\"M40.22,-46.57C37.64,-43.25 34.85,-39.67 32.16,-36.21\"/>\n",
              "</g>\n",
              "<!-- node1 -->\n",
              "<g id=\"node3\" class=\"node\">\n",
              "<title>node1</title>\n",
              "<polygon fill=\"none\" stroke=\"black\" points=\"103.2,-36 67.2,-36 67.2,0 103.2,0 103.2,-36\"/>\n",
              "<text text-anchor=\"middle\" x=\"85.2\" y=\"-14.3\" font-family=\"Times New Roman,serif\" font-size=\"14.00\">y</text>\n",
              "</g>\n",
              "<!-- node2&#45;&#45;node1 -->\n",
              "<g id=\"edge3\" class=\"edge\">\n",
              "<title>node2--node1</title>\n",
              "<path fill=\"none\" stroke=\"black\" d=\"M62.98,-46.57C65.56,-43.25 68.35,-39.67 71.04,-36.21\"/>\n",
              "</g>\n",
              "<!-- node6 -->\n",
              "<g id=\"node4\" class=\"node\">\n",
              "<title>node6</title>\n",
              "<ellipse fill=\"none\" stroke=\"black\" cx=\"118.8\" cy=\"-104.4\" rx=\"18\" ry=\"18\"/>\n",
              "<text text-anchor=\"middle\" x=\"118.8\" y=\"-100.7\" font-family=\"Times New Roman,serif\" font-size=\"14.00\">/</text>\n",
              "</g>\n",
              "<!-- node6&#45;&#45;node2 -->\n",
              "<g id=\"edge1\" class=\"edge\">\n",
              "<title>node6--node2</title>\n",
              "<path fill=\"none\" stroke=\"black\" d=\"M103.55,-94.6C92.55,-87.53 77.77,-78.02 66.79,-70.96\"/>\n",
              "</g>\n",
              "<!-- node5 -->\n",
              "<g id=\"node6\" class=\"node\">\n",
              "<title>node5</title>\n",
              "<ellipse fill=\"none\" stroke=\"black\" cx=\"186\" cy=\"-61.2\" rx=\"18\" ry=\"18\"/>\n",
              "<text text-anchor=\"middle\" x=\"186\" y=\"-57.5\" font-family=\"Times New Roman,serif\" font-size=\"14.00\">-</text>\n",
              "</g>\n",
              "<!-- node6&#45;&#45;node5 -->\n",
              "<g id=\"edge4\" class=\"edge\">\n",
              "<title>node6--node5</title>\n",
              "<path fill=\"none\" stroke=\"black\" d=\"M134.05,-94.6C145.05,-87.53 159.83,-78.02 170.81,-70.96\"/>\n",
              "</g>\n",
              "<!-- node3 -->\n",
              "<g id=\"node5\" class=\"node\">\n",
              "<title>node3</title>\n",
              "<polygon fill=\"none\" stroke=\"black\" points=\"170.4,-36 134.4,-36 134.4,0 170.4,0 170.4,-36\"/>\n",
              "<text text-anchor=\"middle\" x=\"152.4\" y=\"-14.3\" font-family=\"Times New Roman,serif\" font-size=\"14.00\">1</text>\n",
              "</g>\n",
              "<!-- node5&#45;&#45;node3 -->\n",
              "<g id=\"edge5\" class=\"edge\">\n",
              "<title>node5--node3</title>\n",
              "<path fill=\"none\" stroke=\"black\" d=\"M174.62,-46.57C172.04,-43.25 169.25,-39.67 166.56,-36.21\"/>\n",
              "</g>\n",
              "<!-- node4 -->\n",
              "<g id=\"node7\" class=\"node\">\n",
              "<title>node4</title>\n",
              "<polygon fill=\"none\" stroke=\"black\" points=\"237.6,-36 201.6,-36 201.6,0 237.6,0 237.6,-36\"/>\n",
              "<text text-anchor=\"middle\" x=\"219.6\" y=\"-14.3\" font-family=\"Times New Roman,serif\" font-size=\"14.00\">y</text>\n",
              "</g>\n",
              "<!-- node5&#45;&#45;node4 -->\n",
              "<g id=\"edge6\" class=\"edge\">\n",
              "<title>node5--node4</title>\n",
              "<path fill=\"none\" stroke=\"black\" d=\"M197.38,-46.57C199.96,-43.25 202.75,-39.67 205.44,-36.21\"/>\n",
              "</g>\n",
              "</g>\n",
              "</svg>"
            ],
            "text/plain": [
              "<IPython.core.display.SVG object>"
            ]
          },
          "metadata": {},
          "output_type": "display_data"
        }
      ],
      "source": [
        "probar_derivada(\"(1+y)/(1-y)\",\"y\")"
      ]
    },
    {
      "cell_type": "markdown",
      "metadata": {
        "id": "_ZWCB4QtbGmg"
      },
      "source": [
        "## Simplificaciones\n",
        "\n",
        "Como habrá visto, las fórmulas resultantes no son muy sencillas, pero también es obvio que se se podrían simplificar para que quedaran mucho más presentables. A continuación, proponga y describa cómo podrían implementarse algunas simplificaciones. Piense recursivamente. No es necesario que las implemente, pero si se atreve, agregue un método ``simplificar`` y pruébelo dibujando el árbol resultante."
      ]
    },
    {
      "cell_type": "markdown",
      "metadata": {
        "id": "teA6YWX8bGnA"
      },
      "source": [
        "## ¿Qué hay que entregar?\n",
        "\n",
        "Usted debe entregar este mismo archivo, modificado de acuerdo a lo que se pide. Haga todos los cambios necesarios para explicar y documentar adecuadamente su código. No olvide poner su nombre."
      ]
    }
  ],
  "metadata": {
    "colab": {
      "provenance": []
    },
    "kernelspec": {
      "display_name": "Python 3",
      "language": "python",
      "name": "python3"
    },
    "language_info": {
      "codemirror_mode": {
        "name": "ipython",
        "version": 3
      },
      "file_extension": ".py",
      "mimetype": "text/x-python",
      "name": "python",
      "nbconvert_exporter": "python",
      "pygments_lexer": "ipython3",
      "version": "3.12.2"
    }
  },
  "nbformat": 4,
  "nbformat_minor": 0
}

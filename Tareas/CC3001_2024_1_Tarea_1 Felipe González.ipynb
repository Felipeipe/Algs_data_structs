{
  "cells": [
    {
      "cell_type": "markdown",
      "metadata": {
        "id": "_Q2SFIAPOylT"
      },
      "source": [
        "# CC3001 Primavera 2024 Tarea 1 Felipe González Poblete\n",
        "\n",
        "## Marcador de penales de fútbol\n",
        "\n",
        "### Profesores\n",
        "Sección 1 Patricio Poblete / Nelson Baloian\n"
      ]
    },
    {
      "cell_type": "markdown",
      "metadata": {
        "id": "IAaBIWKlOylU"
      },
      "source": [
        "El objetivo de esta tarea es implementar un sistema de marcador de goles que permita a un canal televisivo mostrar a los espectadores durante una transmisión el ganador en una definición a penales.\n",
        "\n",
        "Una tanda de penales de juega con las siguientes reglas:\n",
        "\n",
        "\n",
        "1.   Los tiros son intercalados entre ambos equipos.\n",
        "2.   Los equipos tienen inicialmente 5 tiros.\n",
        "3.   Si un equipo supera en el marcador al otro después de estos cinco tiros, el juego finaliza.\n",
        "3. Si, antes de completar los cinco tiros, un equipo obtiene una ventaja insuperable (es decir, el otro equipo ya no puede igualar o superar el marcador), el juego finaliza inmediatamente.\n",
        "4. Si hay un empate después de los cinco tiros iniciales, se procede a la muerte súbita. En la muerte súbita, ambos equipos realizan un tiro adicional cada uno. Si un equipo anota y el otro falla, el equipo que anotó es declarado ganador y el juego finaliza.\n",
        "\n",
        "El marcador comienza en \"0-0\", y con cada penal acertado, se suma un punto al equipo correspondiente.\n",
        "\n",
        "Tu tarea es implementar este sistema en Python, donde el usuario debe ingresar inicialmente los nombres de los dos equipos que juegan, y luego, después de cada tiro, ingresar la palabra \"gol\" si el tiro fue exitoso, o nada si no lo fue. El programa debe determinar el ganador siguiendo las reglas descritas. Asegúrate de manejar adecuadamente las situaciones de finalización anticipada y muerte súbita. Para términos de simplificación, se supone que el equipo que se ingresa primero patea su tiro primero.\n",
        "\n",
        "El siguiente programa implementa una versión simplificada de esto, donde se muestra el comportamiento de un lanzamiento de penal:"
      ]
    },
    {
      "cell_type": "code",
      "execution_count": 1,
      "metadata": {
        "id": "qkl1Tc3YOylV"
      },
      "outputs": [],
      "source": [
        "def lanzamiento_penal(equipo):\n",
        "    puntaje_equipo = 0\n",
        "    resultado_tiro = input(f\"¿Ingrese resultado de el tiro del jugador del equipo {equipo}?: \")\n",
        "\n",
        "    if resultado_tiro == 'gol':\n",
        "      puntaje_equipo += 1\n",
        "\n",
        "    print(f\"El puntaje del {equipo} es: {puntaje_equipo}\")"
      ]
    },
    {
      "cell_type": "code",
      "execution_count": 2,
      "metadata": {
        "colab": {
          "base_uri": "https://localhost:8080/"
        },
        "id": "-ehVwCp4OylY",
        "outputId": "1536b948-532d-4640-fa9f-13c9de2132eb"
      },
      "outputs": [
        {
          "name": "stdout",
          "output_type": "stream",
          "text": [
            "El puntaje del Chile es: 1\n"
          ]
        }
      ],
      "source": [
        "lanzamiento_penal(\"Chile\")"
      ]
    },
    {
      "cell_type": "code",
      "execution_count": 3,
      "metadata": {},
      "outputs": [
        {
          "name": "stdout",
          "output_type": "stream",
          "text": [
            "Chile comienza primero\n",
            "El ganador se decide antes de completar los 5 tiros debido a una ventaja insuperable.\n",
            "Resultado Final:\n",
            "Chile: 4\n",
            "Argentina: 1\n",
            "El ganador es: Chile\n"
          ]
        }
      ],
      "source": [
        "def lanzamiento_penal():\n",
        "    equipos = ['',''] # se ingresa los equipos correspondientes\n",
        "    for i in range(0,2):\n",
        "        pais = input(f\"Ingrese el nombre del pais tirador N°{i+1} \")\n",
        "        equipos[i] = pais\n",
        "\n",
        "    puntaje_equipos = [0,0]\n",
        "    i = 0\n",
        "    print(f'{equipos[0]} comienza primero')\n",
        "    \n",
        "    while True:\n",
        "        resultado_tiro = input(f'¿Ingrese resultado del tiro {i // 2 + 1} del equipo {equipos[i % 2]}?: ')\n",
        "        \n",
        "        if resultado_tiro == 'gol':\n",
        "            puntaje_equipos[i % 2] += 1\n",
        "        \n",
        "        # la siguiente linea es la condicion para la muerte subita:\n",
        "        # si es que han hecho más de 5 tiros cada uno\n",
        "        # (i representa la suma de los tiros realizados por los equipos 1 y 2)\n",
        "        # y si es que le toca al segundo equipo\n",
        "        # se verifica si es que hay diferencia de goles.\n",
        "        # si la hay, se detiene el proceso de penales y se lleva a los resultados.\n",
        "        if (i > 9 and i % 2 == 1) and abs(puntaje_equipos[0] - puntaje_equipos[1]) > 0:\n",
        "            break\n",
        "        \n",
        "        # esta linea verifica si es que hay una\n",
        "        # diferencia de goles mayor a la cantidad de turnos disponibles para cualquier equipo\n",
        "        if i < 9 and (abs(puntaje_equipos[0] - puntaje_equipos[1]) > 5 - (i // 2)): # 5 - (i // 2) representa la cantidad de turnos restantes \n",
        "            print('El ganador se decide antes de completar los 5 tiros debido a una ventaja insuperable.')\n",
        "            break\n",
        "        \n",
        "        # esta linea verifica si es que se alcanzó el maximo de\n",
        "        # tiros por cada equipo\n",
        "        if i == 9:\n",
        "            print('Resultado después de 5 tiros:')\n",
        "            print(f'{equipos[0]}: {puntaje_equipos[0]}')\n",
        "            print(f'{equipos[1]}: {puntaje_equipos[1]}')\n",
        "            if puntaje_equipos[0] == puntaje_equipos[1]:\n",
        "                # aquí no se hace un nuevo bucle ya que \n",
        "                # no se necesita, ya que se verifica más\n",
        "                # arriba las condiciones de muerte súbita.\n",
        "                print('Empate! Vamos a muerte súbita')\n",
        "            else:\n",
        "                break\n",
        "        i += 1\n",
        "    \n",
        "    print('Resultado Final:')\n",
        "    print(f'{equipos[0]}: {puntaje_equipos[0]}')\n",
        "    print(f'{equipos[1]}: {puntaje_equipos[1]}')\n",
        "    \n",
        "    if puntaje_equipos[0] > puntaje_equipos[1]:\n",
        "        print(f'El ganador es: {equipos[0]}')\n",
        "    else:\n",
        "        print(f'El ganador es: {equipos[1]}')\n",
        "\n",
        "lanzamiento_penal()"
      ]
    },
    {
      "cell_type": "markdown",
      "metadata": {
        "id": "uUdBcdbGOylf"
      },
      "source": [
        "Tomando como base este código, escriba a continuación un programa que implemente lo que se pide, y pruébelo con los siguientes ejemplos reales:\n",
        "\n",
        "Final de la Copa América 2015\n",
        "```\n",
        "Chile comienza primero\n",
        "¿Ingrese resultado de el tiro 1 del jugador del equipo Chile?: gol\n",
        "¿Ingrese resultado de el tiro 1 del jugador del equipo Argentina?: gol\n",
        "¿Ingrese resultado de el tiro 2 del jugador del equipo Chile?: gol\n",
        "¿Ingrese resultado de el tiro 2 del jugador del equipo Argentina?:\n",
        "¿Ingrese resultado de el tiro 3 del jugador del equipo Chile?: gol\n",
        "¿Ingrese resultado de el tiro 3 del jugador del equipo Argentina?:\n",
        "¿Ingrese resultado de el tiro 4 del jugador del equipo Chile?: gol\n",
        "El ganador se decide antes de completar los 5 tiros debido a una ventaja insuperable.\n",
        "Resultado final:\n",
        "Chile: 4\n",
        "Argentina: 1\n",
        "El ganador es: Chile\n",
        "\n",
        "```\n",
        "\n",
        "\n",
        "Final de la Copa Mundial de Fútbol de 2006\n",
        "```\n",
        "Italia comienza primero\n",
        "¿Ingrese resultado de el tiro 1 del jugador del equipo Italia?: gol\n",
        "¿Ingrese resultado de el tiro 1 del jugador del equipo Francia?: gol\n",
        "¿Ingrese resultado de el tiro 2 del jugador del equipo Italia?: gol\n",
        "¿Ingrese resultado de el tiro 2 del jugador del equipo Francia?:\n",
        "¿Ingrese resultado de el tiro 3 del jugador del equipo Italia?: gol\n",
        "¿Ingrese resultado de el tiro 3 del jugador del equipo Francia?: gol\n",
        "¿Ingrese resultado de el tiro 4 del jugador del equipo Italia?: gol\n",
        "¿Ingrese resultado de el tiro 4 del jugador del equipo Francia?: gol\n",
        "¿Ingrese resultado de el tiro 5 del jugador del equipo Italia?: gol\n",
        "El ganador se decide antes de completar los 5 tiros debido a una ventaja insuperable.\n",
        "Resultado final:\n",
        "Italia: 5\n",
        "Francia: 3\n",
        "El ganador es: Italia\n",
        "\n",
        "```\n",
        "\n",
        "Final de la Liga de Campeones de la UEFA 2000-01\n",
        "```\n",
        "Bayern Munich comienza primero\n",
        "¿Ingrese resultado de el tiro 1 del jugador del equipo Bayern Munich?:\n",
        "¿Ingrese resultado de el tiro 1 del jugador del equipo Valencia?: gol\n",
        "¿Ingrese resultado de el tiro 2 del jugador del equipo Bayern Munich?: gol\n",
        "¿Ingrese resultado de el tiro 2 del jugador del equipo Valencia?: gol\n",
        "¿Ingrese resultado de el tiro 3 del jugador del equipo Bayern Munich?: gol\n",
        "¿Ingrese resultado de el tiro 3 del jugador del equipo Valencia?:\n",
        "¿Ingrese resultado de el tiro 4 del jugador del equipo Bayern Munich?:\n",
        "¿Ingrese resultado de el tiro 4 del jugador del equipo Valencia?:\n",
        "¿Ingrese resultado de el tiro 5 del jugador del equipo Bayern Munich?: gol\n",
        "¿Ingrese resultado de el tiro 5 del jugador del equipo Valencia?: gol\n",
        "\n",
        "Resultado después de 5 tiros:\n",
        "Bayern Munich: 3\n",
        "Valencia: 3\n",
        "Empate! Vamos a muerte súbita\n",
        "\n",
        "¿Ingrese resultado de el tiro 6 del jugador del equipo Bayern Munich?: gol\n",
        "¿Ingrese resultado de el tiro 6 del jugador del equipo Valencia?: gol\n",
        "¿Ingrese resultado de el tiro 7 del jugador del equipo Bayern Munich?: gol\n",
        "¿Ingrese resultado de el tiro 7 del jugador del equipo Valencia?:\n",
        "Resultado final:\n",
        "Bayern Munich: 5\n",
        "Valencia: 4\n",
        "El ganador es: Bayern Munich\n",
        "\n",
        "```"
      ]
    },
    {
      "cell_type": "markdown",
      "metadata": {
        "id": "jzrNv3ZkOylh"
      },
      "source": [
        "## ¿Qué hay que entregar?\n",
        "\n",
        "Usted debe entregar este mismo archivo, modificado de acuerdo a lo que se pide. Haga todos los cambios necesarios para explicar y documentar adecuadamente su código. No olvide poner su nombre."
      ]
    }
  ],
  "metadata": {
    "colab": {
      "provenance": []
    },
    "kernelspec": {
      "display_name": "Python 3",
      "language": "python",
      "name": "python3"
    },
    "language_info": {
      "codemirror_mode": {
        "name": "ipython",
        "version": 3
      },
      "file_extension": ".py",
      "mimetype": "text/x-python",
      "name": "python",
      "nbconvert_exporter": "python",
      "pygments_lexer": "ipython3",
      "version": "3.12.2"
    }
  },
  "nbformat": 4,
  "nbformat_minor": 0
}

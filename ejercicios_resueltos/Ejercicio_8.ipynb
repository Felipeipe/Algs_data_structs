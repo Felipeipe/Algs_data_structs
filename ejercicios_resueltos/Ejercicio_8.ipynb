{
 "cells": [
  {
   "cell_type": "markdown",
   "metadata": {},
   "source": [
    "### Ejercicio 6.4 : Búsqueda en árboles 2-3\n",
    "\n",
    "El objetivo de esta tarea es que usted implemente la búsqueda (\"search\") en árboles 2-3 (sólo la búsqueda, no la inserción). \n",
    "Para ello complete el código que implementa la función ``search`` en tres tipos de nodos:``Nodo2``, que almacena un nodo que tiene 2 hijos, ``Nodo3``, que tiene 3 y ``Nodoe`` que implementa un nodo externo. Además, la función ``search`` de la clase ``Arbol23`` está dada en el enunciado. En todos los casos, la función debe retornar un puntero al nodo que contiene la llave buscada en caso de ser exitosa, o ``None`` si es infructuosa. Usted puede decidir si usa un enfoque recursivo o no para implementarlo. \n",
    "\n",
    "En varias partes se ha rellenado con código provisorio, para que compile. Usted debe reemplazar y completar todo lo que sea necesario para que todo funcione.\n",
    "\n",
    "Para inspirarse puede ver operación de búsqueda ``search`` en un árbol binario en https://colab.research.google.com/github/ivansipiran/AED-Apuntes/blob/main/06_Diccionarios.ipynb#scrollTo=KTlzPSiLGRgy"
   ]
  },
  {
   "cell_type": "code",
   "execution_count": 1,
   "metadata": {},
   "outputs": [],
   "source": [
    "class Nodo2:\n",
    "    def __init__(self, izq, info, der):\n",
    "        self.izq=izq\n",
    "        self.info=info\n",
    "        self.der=der\n",
    "    \n",
    "    def string(self):\n",
    "      return \"Nodo2(\"+str(self.info)+\")\"\n",
    "         \n",
    "    #Implementa esta función\n",
    "    def search(self,x):\n",
    "        pass\n",
    "        \n",
    "class Nodo3:\n",
    "    def __init__(self, izq, info1, med, info2, der):\n",
    "        self.izq=izq\n",
    "        self.info1=info1\n",
    "        self.med=med\n",
    "        self.info2=info2\n",
    "        self.der=der\n",
    "    \n",
    "    def string(self):\n",
    "      return \"Nodo3(\"+str(self.info1)+\",\"+str(self.info2)+\")\"\n",
    "        \n",
    "    #Implementa esta función\n",
    "    def search(self,x):\n",
    "        pass\n",
    "        \n",
    "class Nodoe:\n",
    "    def __init__(self):\n",
    "        pass\n",
    "    \n",
    "    #Implementa esta función\n",
    "    def search(self,x):\n",
    "        pass\n",
    "    \n",
    "    def __str__(self):\n",
    "      return \"☐\"\n",
    "\n",
    "class Arbol23:\n",
    "    def __init__(self,raiz=Nodoe()):\n",
    "        self.raiz=raiz     \n",
    "        \n",
    "    def search(self,x):\n",
    "        return self.raiz.search(x)"
   ]
  },
  {
   "cell_type": "markdown",
   "metadata": {},
   "source": [
    "Para probar este código, vamos a construir \"a mano\" el árbol 2-3 que aparece en el apunte, y luego hay que ejecutar las búsquedas que se indican, para probar que su solución esté correcta."
   ]
  },
  {
   "cell_type": "code",
   "execution_count": 2,
   "metadata": {},
   "outputs": [],
   "source": [
    "a=Nodo3(Nodo2(Nodoe(),10,Nodoe()),25,Nodo3(Nodoe(),32,Nodoe(),48,Nodoe()),57,Nodo2(Nodoe(),74,Nodoe()))"
   ]
  },
  {
   "cell_type": "markdown",
   "metadata": {},
   "source": [
    "### Búsqueda de valores en un Árbol 2-3"
   ]
  },
  {
   "cell_type": "code",
   "execution_count": 3,
   "metadata": {},
   "outputs": [
    {
     "ename": "AttributeError",
     "evalue": "'NoneType' object has no attribute 'string'",
     "output_type": "error",
     "traceback": [
      "\u001b[1;31m---------------------------------------------------------------------------\u001b[0m",
      "\u001b[1;31mAttributeError\u001b[0m                            Traceback (most recent call last)",
      "Cell \u001b[1;32mIn[3], line 2\u001b[0m\n\u001b[0;32m      1\u001b[0m busqueda1\u001b[38;5;241m=\u001b[39ma\u001b[38;5;241m.\u001b[39msearch(\u001b[38;5;241m25\u001b[39m)\n\u001b[1;32m----> 2\u001b[0m \u001b[38;5;28;01massert\u001b[39;00m \u001b[43mbusqueda1\u001b[49m\u001b[38;5;241;43m.\u001b[39;49m\u001b[43mstring\u001b[49m() \u001b[38;5;241m==\u001b[39m \u001b[38;5;124m\"\u001b[39m\u001b[38;5;124mNodo3(25,57)\u001b[39m\u001b[38;5;124m\"\u001b[39m\n\u001b[0;32m      4\u001b[0m busqueda2\u001b[38;5;241m=\u001b[39ma\u001b[38;5;241m.\u001b[39msearch(\u001b[38;5;241m74\u001b[39m)\n\u001b[0;32m      5\u001b[0m \u001b[38;5;28;01massert\u001b[39;00m busqueda2\u001b[38;5;241m.\u001b[39mstring() \u001b[38;5;241m==\u001b[39m \u001b[38;5;124m\"\u001b[39m\u001b[38;5;124mNodo2(74)\u001b[39m\u001b[38;5;124m\"\u001b[39m\n",
      "\u001b[1;31mAttributeError\u001b[0m: 'NoneType' object has no attribute 'string'"
     ]
    }
   ],
   "source": [
    "busqueda1=a.search(25)\n",
    "assert busqueda1.string() == \"Nodo3(25,57)\"\n",
    "\n",
    "busqueda2=a.search(74)\n",
    "assert busqueda2.string() == \"Nodo2(74)\"\n",
    "\n",
    "\n",
    "busqueda3=a.search(7)\n",
    "assert busqueda3 == None\n",
    "\n",
    "print(\"pasó los tests\")"
   ]
  }
 ],
 "metadata": {
  "kernelspec": {
   "display_name": "Python 3",
   "language": "python",
   "name": "python3"
  },
  "language_info": {
   "codemirror_mode": {
    "name": "ipython",
    "version": 3
   },
   "file_extension": ".py",
   "mimetype": "text/x-python",
   "name": "python",
   "nbconvert_exporter": "python",
   "pygments_lexer": "ipython3",
   "version": "3.12.2"
  }
 },
 "nbformat": 4,
 "nbformat_minor": 2
}

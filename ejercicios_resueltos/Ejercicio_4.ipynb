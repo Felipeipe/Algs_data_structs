{
 "cells": [
  {
   "cell_type": "markdown",
   "metadata": {},
   "source": [
    "### Ejercicio 3.5 Felipe González\n",
    "\n",
    "Modifique la función para que marque con `\".\"` los casilleros por donde hubo intentos no exitosos de salir, y con `\"x\"` los casilleros que finalmente condujeron a la salida."
   ]
  },
  {
   "cell_type": "code",
   "execution_count": 3,
   "metadata": {},
   "outputs": [
    {
     "name": "stdout",
     "output_type": "stream",
     "text": [
      " \n",
      "True\n",
      "x\n",
      "+--+-----+--+\n",
      "|..|.....|  |\n",
      "|..+--+...xx=\n",
      "|.....|..|xx|\n",
      "+--+..|..|xx|\n",
      "|  |........|\n",
      "|  |.....|..|\n",
      "+--+-----+--+\n"
     ]
    }
   ],
   "source": [
    "def salida(i,j):\n",
    "    \"\"\" recibe un punto de comienzo de un laberinto\n",
    "    y verifica si es que desde ese punto existe una\n",
    "    una forma de salir.\n",
    "\n",
    "    Args:\n",
    "        i (int): posición 'y' en el laberinto. [0, len(L))\n",
    "        j (int): posición 'x' en el laberinto. [0, len(L[i]))\n",
    "\n",
    "    Returns:\n",
    "        bool: entrega si es que el laberinto efectivamente tiene salida o no.\n",
    "    \"\"\"\n",
    "    if L[i][j] == \"=\": # encontramos la salida\n",
    "        return True\n",
    "    if L[i][j] != \" \": # si en la posición no estamos en un espacio vacío\n",
    "        return False\n",
    "    \n",
    "    L[i]=L[i][:j]+\".\"+L[i][j+1:]\n",
    "    \n",
    "    if salida(i ,j-1) \\\n",
    "    or salida(i ,j+1) \\\n",
    "    or salida(i-1, j) \\\n",
    "    or salida(i+1, j):\n",
    "        L[i]=L[i][:j]+\"x\"+L[i][j+1:]\n",
    "        return True\n",
    "    return False\n",
    "\n",
    "L = [\n",
    "\"+--+-----+--+\",\n",
    "\"|  |     |  |\",\n",
    "\"|  +--+     =\",\n",
    "\"|     |  |  |\",\n",
    "\"+--+  |  |  |\",\n",
    "\"|  |        |\",\n",
    "\"|  |     |  |\",\n",
    "\"+--+-----+--+\"\n",
    "]\n",
    "print(L[4][10])\n",
    "print(salida(4,10))\n",
    "print(L[4][10])\n",
    "for linea in L:\n",
    "    print(linea)"
   ]
  },
  {
   "cell_type": "code",
   "execution_count": 4,
   "metadata": {},
   "outputs": [
    {
     "name": "stdout",
     "output_type": "stream",
     "text": [
      "True\n",
      "+--+-----+--+\n",
      "|xx|.....|..|\n",
      "|xx+--+....x=\n",
      "|xxxxx|..|xx|\n",
      "+--+xx|..|xx|\n",
      "|  |xxxxxxxx|\n",
      "|  |     |  |\n",
      "+--+-----+--+\n"
     ]
    }
   ],
   "source": [
    "L = [\n",
    "\"+--+-----+--+\",\n",
    "\"|  |     |  |\",\n",
    "\"|  +--+     =\",\n",
    "\"|     |  |  |\",\n",
    "\"+--+  |  |  |\",\n",
    "\"|  |        |\",\n",
    "\"|  |     |  |\",\n",
    "\"+--+-----+--+\"\n",
    "]\n",
    "print(salida(1,1))\n",
    "\n",
    "for linea in L:\n",
    "    print(linea)"
   ]
  }
 ],
 "metadata": {
  "kernelspec": {
   "display_name": "Python 3",
   "language": "python",
   "name": "python3"
  },
  "language_info": {
   "codemirror_mode": {
    "name": "ipython",
    "version": 3
   },
   "file_extension": ".py",
   "mimetype": "text/x-python",
   "name": "python",
   "nbconvert_exporter": "python",
   "pygments_lexer": "ipython3",
   "version": "3.12.2"
  }
 },
 "nbformat": 4,
 "nbformat_minor": 2
}

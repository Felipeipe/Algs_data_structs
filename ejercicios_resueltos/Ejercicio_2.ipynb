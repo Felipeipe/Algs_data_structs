{
  "cells": [
    {
      "cell_type": "markdown",
      "metadata": {
        "id": "mmdA7MS_QkeQ"
      },
      "source": [
        "### Ejercicio 1.4\n",
        "\n",
        "Suponga que se tiene una matriz $A$ tal que los elementos de cada fila están ordenados ascendentemente, y de la misma manera, los elementos de cada columna también están en orden ascendente. Por ejemplo:"
      ]
    },
    {
      "cell_type": "code",
      "execution_count": 1,
      "metadata": {
        "colab": {
          "base_uri": "https://localhost:8080/"
        },
        "id": "pEIbFA4xRA4k",
        "outputId": "571d4c56-89c2-4392-a827-8c51c1fb1303"
      },
      "outputs": [
        {
          "name": "stdout",
          "output_type": "stream",
          "text": [
            "[[10 17 25 36 50 82]\n",
            " [15 19 28 45 63 87]\n",
            " [21 30 42 56 77 91]\n",
            " [27 35 74 84 90 95]\n",
            " [40 62 81 86 93 98]]\n",
            "40\n"
          ]
        }
      ],
      "source": [
        "import numpy as np\n",
        "\n",
        "A = np.array([[10,17,25,36,50,82],\n",
        "           [15,19,28,45,63,87],\n",
        "           [21,30,42,56,77,91],\n",
        "           [27,35,74,84,90,95],\n",
        "           [40,62,81,86,93,98]])\n",
        "print(A)\n",
        "print(A[4,0])"
      ]
    },
    {
      "cell_type": "markdown",
      "metadata": {
        "id": "MybzaHjCTFgz"
      },
      "source": [
        "Para simplificar, vamos a suponer que no hay elementos repetidos en la matriz.\n",
        "\n",
        "Se desea escribir una función que, dado un número $x$, lo busque dentro de la matriz $A$. Si lo encuentra, debe retornar una tupla $(i,j)$ tal que $A[i,j]=x$. Si no lo encuentra debe retornar `None`.\n",
        "\n",
        "Si la matriz es de $m\\times n$, se podría hacer una búsqueda secuencial, la cual en el peor caso demoraría un tiempo proporcional a $m n$. El objetivo de este ejercicio es desarrollar un algoritmo más eficiente, que haga la búsqueda en un tiempo proporcional a $m+n$.\n",
        "\n",
        "La idea es comenzar comparando $x$ contra el elemento de la esquina inferior izquierda de la matriz, es decir, $A[m-1,0]$. Si $x$ es igual a ese elemento, el algoritmo termina exitosamente. Si no, vemos si $x$ es mayor o menor que él, y dependiendo de eso, podemos ya sea descartar esa fila o esa columna. El proceso se repite con la parte restante de la matriz.\n",
        "\n",
        "De esta manera, al comenzar una nueva iteración, el invariante sería que la parte de la matriz en donde todavía podría encontrarse $x$ son las filas de la $0$ hasta la $i$ y las columnas desde la $j$ hasta la $n-1$, como ilustra la siguiente figura:\n",
        "\n",
        "![invariante-matriz](https://github.com/ivansipiran/AED-Apuntes/blob/main/recursos/invariante-matriz.png?raw=1)\n",
        "\n",
        "La parte de color gris son las filas y columnas que ya han sido descartadas.\n",
        "\n",
        "Escriba aquí su función y ejecute las pruebas que se indican a continuación:"
      ]
    },
    {
      "cell_type": "code",
      "execution_count": 2,
      "metadata": {
        "id": "GZGoYPCcYMKV"
      },
      "outputs": [],
      "source": [
        "# Busca x en la matriz A\n",
        "def busca(x,A):\n",
        "    m, n = np.shape(A)\n",
        "    i, j = ((m-1), 0) \n",
        "    while i > -1 and j < n:\n",
        "        if x == A[i, j]:\n",
        "            return (i, j)\n",
        "        elif x > A[i, j]:\n",
        "            j += 1\n",
        "        elif x < A[i, j]:\n",
        "            i -= 1\n",
        "    \n",
        "        "
      ]
    },
    {
      "cell_type": "code",
      "execution_count": 3,
      "metadata": {
        "id": "bVsqgY3xZ6Us"
      },
      "outputs": [
        {
          "name": "stdout",
          "output_type": "stream",
          "text": [
            "(1, 2)\n"
          ]
        }
      ],
      "source": [
        "print(busca(28,A)) # Debe imprimir (1,2)"
      ]
    },
    {
      "cell_type": "code",
      "execution_count": 4,
      "metadata": {
        "id": "RnKGC_eAZ9NS"
      },
      "outputs": [
        {
          "name": "stdout",
          "output_type": "stream",
          "text": [
            "(0, 5)\n"
          ]
        }
      ],
      "source": [
        "print(busca(82,A)) # Debe imprimir (0,5)"
      ]
    },
    {
      "cell_type": "code",
      "execution_count": 5,
      "metadata": {
        "id": "9xMHiVCkaFML"
      },
      "outputs": [
        {
          "name": "stdout",
          "output_type": "stream",
          "text": [
            "None\n"
          ]
        }
      ],
      "source": [
        "print(busca(33,A)) # Debe imprimir None"
      ]
    }
  ],
  "metadata": {
    "colab": {
      "provenance": []
    },
    "kernelspec": {
      "display_name": "Python 3",
      "language": "python",
      "name": "python3"
    },
    "language_info": {
      "codemirror_mode": {
        "name": "ipython",
        "version": 3
      },
      "file_extension": ".py",
      "mimetype": "text/x-python",
      "name": "python",
      "nbconvert_exporter": "python",
      "pygments_lexer": "ipython3",
      "version": "3.12.2"
    }
  },
  "nbformat": 4,
  "nbformat_minor": 0
}

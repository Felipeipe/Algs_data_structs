{
 "cells": [
  {
   "cell_type": "markdown",
   "metadata": {},
   "source": [
    "### Ejercicio 1.2\n",
    "\n",
    "Existe un algoritmo alternativo a Hoare, que resulta en una codificación más sencilla. Este algoritmo, debido a **Lomuto**, se basa en el siguiente invariante:\n",
    "\n",
    "![particion-Lomuto](../recursos/particion-Lomuto.png)\n",
    "\n",
    "En este algoritmo, en cada iteración, si $a[j]<p$, se intercambian $a[i]$ con $a[j]$ y se incrementa $i$, porque ahora hay un elemento más en el grupo de los menores que $p$. Después de esto, se incrementa $j$, *incondicionalmente* (¿por qué es correcto hacer eso?).\n",
    "\n",
    "Programe la partición de Lomuto en el recuadro siguiente y pruébela."
   ]
  },
  {
   "cell_type": "code",
   "execution_count": 5,
   "metadata": {},
   "outputs": [],
   "source": [
    "def particionLomuto(a,p):\n",
    "    # retorna el punto de corte, el número de elementos <p y la lista particionada\n",
    "    # escribir acá el algoritmo de partición de Lomuto\n",
    "    n = len(a)\n",
    "    i, j = 0, 0\n",
    "    while j < n:\n",
    "        if a[j] < p:\n",
    "            a[i], a[j] = a[j], a[i] # intercambio de elementos\n",
    "            i += 1\n",
    "        j += 1    \n",
    "    return (p,i,a) "
   ]
  },
  {
   "cell_type": "code",
   "execution_count": 6,
   "metadata": {},
   "outputs": [],
   "source": [
    "def verifica_particion(t): # imprime y chequea partición\n",
    "    (p, m, a) = t\n",
    "    # p=punto de corte, m=número de elementos <p, a=lista completa particionada\n",
    "    print(a[0 : m], p, a[m : ])\n",
    "    print(\"Partición OK\" if (m == 0 or max(a[0 : m]) < p) and (m == len(a) or min(a[m : ]) > p)\n",
    "          else \"Error\")"
   ]
  },
  {
   "cell_type": "code",
   "execution_count": 7,
   "metadata": {},
   "outputs": [
    {
     "name": "stdout",
     "output_type": "stream",
     "text": [
      "[21, 34, 37, 15, 36] 50 [73, 77, 65, 82, 98, 56]\n",
      "Partición OK\n",
      "[] 0 [73, 21, 34, 98, 56, 37, 77, 65, 82, 15, 36]\n",
      "Partición OK\n",
      "[73, 21, 34, 98, 56, 37, 77, 65, 82, 15, 36] 100 []\n",
      "Partición OK\n"
     ]
    }
   ],
   "source": [
    "# tests\n",
    "verifica_particion(particionLomuto([73,21,34,98,56,37,77,65,82,15,36],50))\n",
    "verifica_particion(particionLomuto([73,21,34,98,56,37,77,65,82,15,36],0))\n",
    "verifica_particion(particionLomuto([73,21,34,98,56,37,77,65,82,15,36],100))"
   ]
  }
 ],
 "metadata": {
  "kernelspec": {
   "display_name": "Python 3",
   "language": "python",
   "name": "python3"
  },
  "language_info": {
   "codemirror_mode": {
    "name": "ipython",
    "version": 3
   },
   "file_extension": ".py",
   "mimetype": "text/x-python",
   "name": "python",
   "nbconvert_exporter": "python",
   "pygments_lexer": "ipython3",
   "version": "3.12.2"
  }
 },
 "nbformat": 4,
 "nbformat_minor": 2
}
